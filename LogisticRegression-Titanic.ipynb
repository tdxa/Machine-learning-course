{
  "nbformat": 4,
  "nbformat_minor": 0,
  "metadata": {
    "kernelspec": {
      "display_name": "Python 3",
      "language": "python",
      "name": "python3"
    },
    "language_info": {
      "codemirror_mode": {
        "name": "ipython",
        "version": 3
      },
      "file_extension": ".py",
      "mimetype": "text/x-python",
      "name": "python",
      "nbconvert_exporter": "python",
      "pygments_lexer": "ipython3",
      "version": "3.7.6"
    },
    "colab": {
      "name": "Kopia notatnika Titanic_empty.ipynb",
      "provenance": [],
      "collapsed_sections": []
    }
  },
  "cells": [
    {
      "cell_type": "markdown",
      "metadata": {
        "id": "tGWz-8wjWJ6V"
      },
      "source": [
        "## About dataset\n",
        "### Kaggle Competition | Titanic Machine Learning from Disaster\n",
        "\n",
        ">The sinking of the RMS Titanic is one of the most infamous shipwrecks in history.  On April 15, 1912, during her maiden voyage, the Titanic sank after colliding with an iceberg, killing 1502 out of 2224 passengers and crew.  This sensational tragedy shocked the international community and led to better safety regulations for ships.\n",
        "\n",
        ">One of the reasons that the shipwreck led to such loss of life was that there were not enough lifeboats for the passengers and crew.  Although there was some element of luck involved in surviving the sinking, some groups of people were more likely to survive than others, such as women, children, and the upper-class.\n",
        "\n",
        ">In this contest, we ask you to complete the analysis of what sorts of people were likely to survive.  In particular, we ask you to apply the tools of machine learning to predict which passengers survived the tragedy.\n",
        "\n",
        ">This Kaggle Getting Started Competition provides an ideal starting place for people who may not have a lot of experience in data science and machine learning.\"\n",
        "\n",
        "From the competition [homepage](http://www.kaggle.com/c/titanic-gettingStarted).\n",
        "\n"
      ]
    },
    {
      "cell_type": "code",
      "metadata": {
        "id": "f9d_q62QWJ6X"
      },
      "source": [
        "import pandas as pd\n",
        "import numpy as np\n",
        "import seaborn as sns\n",
        "\n",
        "import matplotlib.pyplot as plt\n",
        "%matplotlib inline"
      ],
      "execution_count": null,
      "outputs": []
    },
    {
      "cell_type": "code",
      "metadata": {
        "id": "CAyp0mTlWJ6c",
        "colab": {
          "base_uri": "https://localhost:8080/"
        },
        "outputId": "39af9af7-6706-4ba4-ec84-f0f2b3436e34"
      },
      "source": [
        "# Uncomment this if you are using Google Colab\n",
        "!wget https://raw.githubusercontent.com/PrzemekSekula/DeepLearningClasses1/master/Titanic/train.csv"
      ],
      "execution_count": null,
      "outputs": [
        {
          "output_type": "stream",
          "text": [
            "--2020-11-11 18:35:36--  https://raw.githubusercontent.com/PrzemekSekula/DeepLearningClasses1/master/Titanic/train.csv\n",
            "Resolving raw.githubusercontent.com (raw.githubusercontent.com)... 151.101.0.133, 151.101.64.133, 151.101.128.133, ...\n",
            "Connecting to raw.githubusercontent.com (raw.githubusercontent.com)|151.101.0.133|:443... connected.\n",
            "HTTP request sent, awaiting response... 200 OK\n",
            "Length: 60302 (59K) [text/plain]\n",
            "Saving to: ‘train.csv.1’\n",
            "\n",
            "\rtrain.csv.1           0%[                    ]       0  --.-KB/s               \rtrain.csv.1         100%[===================>]  58.89K  --.-KB/s    in 0.03s   \n",
            "\n",
            "2020-11-11 18:35:36 (2.06 MB/s) - ‘train.csv.1’ saved [60302/60302]\n",
            "\n"
          ],
          "name": "stdout"
        }
      ]
    },
    {
      "cell_type": "markdown",
      "metadata": {
        "id": "dWFoG7CIWJ6f"
      },
      "source": [
        "## Loading dataframe\n",
        "Let's read our data in using pandas:"
      ]
    },
    {
      "cell_type": "code",
      "metadata": {
        "id": "uLhUNoz6WJ6g",
        "colab": {
          "base_uri": "https://localhost:8080/",
          "height": 376
        },
        "outputId": "38aaa819-5751-4966-b515-cad58b05600c"
      },
      "source": [
        "df= pd.read_csv('./train.csv')\n",
        "\n",
        "print(df.shape)\n",
        "print(df.columns)\n",
        "\n",
        "df.head()"
      ],
      "execution_count": null,
      "outputs": [
        {
          "output_type": "stream",
          "text": [
            "(891, 12)\n",
            "Index(['PassengerId', 'Survived', 'Pclass', 'Name', 'Sex', 'Age', 'SibSp',\n",
            "       'Parch', 'Ticket', 'Fare', 'Cabin', 'Embarked'],\n",
            "      dtype='object')\n"
          ],
          "name": "stdout"
        },
        {
          "output_type": "execute_result",
          "data": {
            "text/plain": [
              "<matplotlib.axes._subplots.AxesSubplot at 0x7f06a5d24d68>"
            ]
          },
          "metadata": {
            "tags": []
          },
          "execution_count": 14
        },
        {
          "output_type": "display_data",
          "data": {
            "image/png": "[encoded data removed]",
            "text/plain": [
              "<Figure size 432x288 with 1 Axes>"
            ]
          },
          "metadata": {
            "tags": [],
            "needs_background": "light"
          }
        }
      ]
    },
    {
      "cell_type": "markdown",
      "metadata": {
        "id": "WYkhny1AWJ6j"
      },
      "source": [
        "### Data description\n",
        "\n",
        "The files we read in the previous screen are available on the data page for the Titanic competition on Kaggle. That page also has a data dictionary, which explains the various columns that make up the data set. Below are the descriptions contained in that data dictionary:\n",
        "\n",
        "- PassengerID - A column added by Kaggle to identify each row and make submissions easier\n",
        "- Survived - Whether the passenger survived or not and the value we are predicting (0=No, 1=Yes)\n",
        "- Pclass - The class of the ticket the passenger purchased (1=1st, 2=2nd, 3=3rd)\n",
        "- Sex - The passenger's sex\n",
        "- Age - The passenger's age in years\n",
        "- SibSp - The number of siblings or spouses the passenger had aboard the Titanic\n",
        "- Parch - The number of parents or children the passenger had aboard the Titanic\n",
        "- Ticket - The passenger's ticket number\n",
        "- Fare - The fare the passenger paid\n",
        "- Cabin - The passenger's cabin number\n",
        "- Embarked - The port where the passenger embarked (C=Cherbourg, Q=Queenstown, S=Southampton)"
      ]
    },
    {
      "cell_type": "markdown",
      "metadata": {
        "id": "_vJY5Eo-WJ6j"
      },
      "source": [
        "## Dealing with Null values"
      ]
    },
    {
      "cell_type": "markdown",
      "metadata": {
        "id": "2B-rSteaWJ6k"
      },
      "source": [
        "Let's count the missing values for all columns."
      ]
    },
    {
      "cell_type": "code",
      "metadata": {
        "id": "urUK6VJTWJ6l",
        "colab": {
          "base_uri": "https://localhost:8080/"
        },
        "outputId": "e4fa14e1-60f6-4046-ea92-7707feb48d64"
      },
      "source": [
        "df.isnull().sum()"
      ],
      "execution_count": null,
      "outputs": [
        {
          "output_type": "execute_result",
          "data": {
            "text/plain": [
              "PassengerId      0\n",
              "Survived         0\n",
              "Pclass           0\n",
              "Name             0\n",
              "Sex              0\n",
              "Age            177\n",
              "SibSp            0\n",
              "Parch            0\n",
              "Ticket           0\n",
              "Fare             0\n",
              "Cabin          687\n",
              "Embarked         2\n",
              "dtype: int64"
            ]
          },
          "metadata": {
            "tags": []
          },
          "execution_count": 15
        }
      ]
    },
    {
      "cell_type": "markdown",
      "metadata": {
        "id": "Ejp3ZJmVWJ6o"
      },
      "source": [
        "### Take care of missing values:\n",
        "The features `cabin` has many missing values and so can’t add much value to our analysis. To handle this we will drop them from the dataframe to preserve the integrity of our dataset. It is also a good idea do delete the name of the passanger and the number of ticket - this data also cannot probably improve the quality of our predictions. Let's do it with pandas.\n",
        "\n",
        "    df = df.drop(['ticket','cabin', 'Name'], axis=1) \n",
        "\n",
        "The next step is to do something with other missing values. Please note that we have 2 missing values in `Embarked` and 177 in `Age` columns. There are several possible solutions, one of them is simply delete all the rows with missing values. You can do it using the following pandas function.\n",
        "   \n",
        "    df = df.dropna()\n"
      ]
    },
    {
      "cell_type": "code",
      "metadata": {
        "id": "5IqCBLUGWJ6p"
      },
      "source": [
        "df = df.drop(['Ticket','Cabin','Name'],axis=1)"
      ],
      "execution_count": null,
      "outputs": []
    },
    {
      "cell_type": "code",
      "metadata": {
        "id": "nopa-nglWJ6s"
      },
      "source": [
        "df = df.dropna()"
      ],
      "execution_count": null,
      "outputs": []
    },
    {
      "cell_type": "markdown",
      "metadata": {
        "id": "deE5WQMtWJ6v"
      },
      "source": [
        "## Task 1 -  Let's take a look at our data "
      ]
    },
    {
      "cell_type": "markdown",
      "metadata": {
        "id": "-TttAA1CWJ6v"
      },
      "source": [
        "### Task 1 a) Data analysis\n",
        "Let's check:\n",
        "- how many people survived, and how many don't *(hint - google for pandas value_counts)*\n",
        "- what is the Passanger Class (`Pclass` column) distribution of our data\n",
        "- what is the age distribution of our data *(hint - use pandas histogram)*"
      ]
    },
    {
      "cell_type": "code",
      "metadata": {
        "id": "r6PhSk3fWJ6w",
        "colab": {
          "base_uri": "https://localhost:8080/",
          "height": 346
        },
        "outputId": "bd8cf693-5afc-4a6d-abed-2b7a40ece78f"
      },
      "source": [
        "print(df.value_counts('Survived'))\n",
        "\n",
        "sns.barplot(x='Sex', y='Survived', data=df)\n",
        "plt.show()\n",
        "#being female increased chances of survival.\n",
        "\n"
      ],
      "execution_count": null,
      "outputs": [
        {
          "output_type": "stream",
          "text": [
            "Survived\n",
            "0    424\n",
            "1    288\n",
            "dtype: int64\n"
          ],
          "name": "stdout"
        },
        {
          "output_type": "display_data",
          "data": {
            "image/png": "[encoded data removed]",
            "text/plain": [
              "<Figure size 432x288 with 1 Axes>"
            ]
          },
          "metadata": {
            "tags": [],
            "needs_background": "light"
          }
        }
      ]
    },
    {
      "cell_type": "code",
      "metadata": {
        "id": "tIKH5ED7WJ6y",
        "colab": {
          "base_uri": "https://localhost:8080/",
          "height": 363
        },
        "outputId": "f1738c25-f577-4f09-9cbf-4f8134e19285"
      },
      "source": [
        "print(df.value_counts('Pclass',  sort=False))\n",
        "sns.barplot(x='Pclass', y='Survived', data=df, color=\"darkturquoise\")\n",
        "plt.show()\n",
        "#being a first class passenger increased chances of survival."
      ],
      "execution_count": null,
      "outputs": [
        {
          "output_type": "stream",
          "text": [
            "Pclass\n",
            "1    184\n",
            "2    173\n",
            "3    355\n",
            "dtype: int64\n"
          ],
          "name": "stdout"
        },
        {
          "output_type": "display_data",
          "data": {
            "image/png": "[encoded data removed]",
            "text/plain": [
              "<Figure size 432x288 with 1 Axes>"
            ]
          },
          "metadata": {
            "tags": [],
            "needs_background": "light"
          }
        }
      ]
    },
    {
      "cell_type": "code",
      "metadata": {
        "id": "wW_DmAJMWJ60",
        "colab": {
          "base_uri": "https://localhost:8080/",
          "height": 632
        },
        "outputId": "998ae3ee-e669-4f42-c70f-6b52c536d09c"
      },
      "source": [
        "sns.histplot(data = df, x='Age', hue='Survived', multiple='stack')\n",
        "print(df['Age'].value_counts(bins=20,sort=False))\n",
        "\n",
        "#Being a child and a teenager increased chances of survival.\n",
        "\n",
        "df['IsYoung']=np.where(df['Age']<=20, 1, 0)"
      ],
      "execution_count": null,
      "outputs": [
        {
          "output_type": "stream",
          "text": [
            "(0.339, 4.399]      40\n",
            "(4.399, 8.378]      14\n",
            "(8.378, 12.357]     15\n",
            "(12.357, 16.336]    31\n",
            "(16.336, 20.315]    79\n",
            "(20.315, 24.294]    98\n",
            "(24.294, 28.273]    85\n",
            "(28.273, 32.252]    84\n",
            "(32.252, 36.231]    73\n",
            "(36.231, 40.21]     44\n",
            "(40.21, 44.189]     35\n",
            "(44.189, 48.168]    35\n",
            "(48.168, 52.147]    29\n",
            "(52.147, 56.126]    16\n",
            "(56.126, 60.105]    13\n",
            "(60.105, 64.084]    10\n",
            "(64.084, 68.063]     4\n",
            "(68.063, 72.042]     5\n",
            "(72.042, 76.021]     1\n",
            "(76.021, 80.0]       1\n",
            "Name: Age, dtype: int64\n"
          ],
          "name": "stdout"
        },
        {
          "output_type": "display_data",
          "data": {
            "image/png": "[encoded data removed]",
            "text/plain": [
              "<Figure size 432x288 with 1 Axes>"
            ]
          },
          "metadata": {
            "tags": [],
            "needs_background": "light"
          }
        }
      ]
    },
    {
      "cell_type": "markdown",
      "metadata": {
        "id": "NqNJNakWWJ62"
      },
      "source": [
        "### Task 1b -  Correlation analysis \n",
        "Prepare the correlation analysis of the data. In analysis you should display the information about correlations between each pair of variables.\n",
        "\n",
        "*Hint: You may google for `pandas correlation matrix heatmap` to find the solution"
      ]
    },
    {
      "cell_type": "code",
      "metadata": {
        "id": "-96ETgXeWJ63",
        "colab": {
          "base_uri": "https://localhost:8080/",
          "height": 391
        },
        "outputId": "91b0f03b-acc6-4bda-fa1c-018d1b4113a3"
      },
      "source": [
        "correlation_matrix = df.corr()\n",
        "\n",
        "plt.subplots(figsize=(8,5))\n",
        "sns.heatmap(correlation_matrix, \n",
        "            annot=True)"
      ],
      "execution_count": null,
      "outputs": [
        {
          "output_type": "execute_result",
          "data": {
            "text/plain": [
              "<matplotlib.axes._subplots.AxesSubplot at 0x7f06a136a748>"
            ]
          },
          "metadata": {
            "tags": []
          },
          "execution_count": 67
        },
        {
          "output_type": "display_data",
          "data": {
            "image/png": "[encoded data removed]",
            "text/plain": [
              "<Figure size 576x360 with 2 Axes>"
            ]
          },
          "metadata": {
            "tags": [],
            "needs_background": "light"
          }
        }
      ]
    },
    {
      "cell_type": "markdown",
      "metadata": {
        "id": "ws29lD3NWJ69"
      },
      "source": [
        "## Task 2 - Select features and labels\n",
        "Create the new dataframes/series:\n",
        "- `X` - with the features\n",
        "- `y` - with the labels\n",
        "\n",
        "These dataframes should be ready to use train_test_split, and then to perform machine learning.\n",
        "\n",
        "**Note: This task will be probably done iteratively - you may get back to this task every time you want to improve your results **"
      ]
    },
    {
      "cell_type": "code",
      "metadata": {
        "id": "Zn2mFARNWJ6-",
        "colab": {
          "base_uri": "https://localhost:8080/",
          "height": 195
        },
        "outputId": "0cc774e3-2444-4726-f192-0e474ca58d2c"
      },
      "source": [
        "x = df[['Parch','Fare', 'Sex']] # 78|76 1.685%\n",
        "x = df[['Parch','Fare', 'Sex','Age']] # 78|77 0.936%\n",
        "x = df[['Parch','Fare', 'Sex','Age','Pclass']] #79|78 1.124%\n",
        "x = df[['Parch','Fare', 'Sex','Age','Pclass', 'IsYoung']] #79|79 0.375%\n",
        "\n",
        "x.head()"
      ],
      "execution_count": null,
      "outputs": [
        {
          "output_type": "execute_result",
          "data": {
            "text/html": [
              "<div>\n",
              "<style scoped>\n",
              "    .dataframe tbody tr th:only-of-type {\n",
              "        vertical-align: middle;\n",
              "    }\n",
              "\n",
              "    .dataframe tbody tr th {\n",
              "        vertical-align: top;\n",
              "    }\n",
              "\n",
              "    .dataframe thead th {\n",
              "        text-align: right;\n",
              "    }\n",
              "</style>\n",
              "<table border=\"1\" class=\"dataframe\">\n",
              "  <thead>\n",
              "    <tr style=\"text-align: right;\">\n",
              "      <th></th>\n",
              "      <th>Parch</th>\n",
              "      <th>Fare</th>\n",
              "      <th>Sex</th>\n",
              "      <th>Age</th>\n",
              "      <th>Pclass</th>\n",
              "      <th>IsYoung</th>\n",
              "    </tr>\n",
              "  </thead>\n",
              "  <tbody>\n",
              "    <tr>\n",
              "      <th>0</th>\n",
              "      <td>0</td>\n",
              "      <td>7.2500</td>\n",
              "      <td>male</td>\n",
              "      <td>22.0</td>\n",
              "      <td>3</td>\n",
              "      <td>0</td>\n",
              "    </tr>\n",
              "    <tr>\n",
              "      <th>1</th>\n",
              "      <td>0</td>\n",
              "      <td>71.2833</td>\n",
              "      <td>female</td>\n",
              "      <td>38.0</td>\n",
              "      <td>1</td>\n",
              "      <td>0</td>\n",
              "    </tr>\n",
              "    <tr>\n",
              "      <th>2</th>\n",
              "      <td>0</td>\n",
              "      <td>7.9250</td>\n",
              "      <td>female</td>\n",
              "      <td>26.0</td>\n",
              "      <td>3</td>\n",
              "      <td>0</td>\n",
              "    </tr>\n",
              "    <tr>\n",
              "      <th>3</th>\n",
              "      <td>0</td>\n",
              "      <td>53.1000</td>\n",
              "      <td>female</td>\n",
              "      <td>35.0</td>\n",
              "      <td>1</td>\n",
              "      <td>0</td>\n",
              "    </tr>\n",
              "    <tr>\n",
              "      <th>4</th>\n",
              "      <td>0</td>\n",
              "      <td>8.0500</td>\n",
              "      <td>male</td>\n",
              "      <td>35.0</td>\n",
              "      <td>3</td>\n",
              "      <td>0</td>\n",
              "    </tr>\n",
              "  </tbody>\n",
              "</table>\n",
              "</div>"
            ],
            "text/plain": [
              "   Parch     Fare     Sex   Age  Pclass  IsYoung\n",
              "0      0   7.2500    male  22.0       3        0\n",
              "1      0  71.2833  female  38.0       1        0\n",
              "2      0   7.9250  female  26.0       3        0\n",
              "3      0  53.1000  female  35.0       1        0\n",
              "4      0   8.0500    male  35.0       3        0"
            ]
          },
          "metadata": {
            "tags": []
          },
          "execution_count": 218
        }
      ]
    },
    {
      "cell_type": "code",
      "metadata": {
        "id": "5vJCpPO5WJ7A",
        "colab": {
          "base_uri": "https://localhost:8080/"
        },
        "outputId": "04b56dbb-1cb5-4d40-9988-f1e688785136"
      },
      "source": [
        "y = df['Survived']\n",
        "y.head()"
      ],
      "execution_count": null,
      "outputs": [
        {
          "output_type": "execute_result",
          "data": {
            "text/plain": [
              "0    0\n",
              "1    1\n",
              "2    1\n",
              "3    1\n",
              "4    0\n",
              "Name: Survived, dtype: int64"
            ]
          },
          "metadata": {
            "tags": []
          },
          "execution_count": 219
        }
      ]
    },
    {
      "cell_type": "markdown",
      "metadata": {
        "id": "CalYEUT7WJ7C"
      },
      "source": [
        "## Task 3 One-hot Encoding\n",
        "Perform one-hot encoding if necessary. \n",
        "\n",
        "*Hint: Use `pd.get_dummies`*"
      ]
    },
    {
      "cell_type": "code",
      "metadata": {
        "id": "JQVPMwmmWJ7C",
        "colab": {
          "base_uri": "https://localhost:8080/",
          "height": 195
        },
        "outputId": "c8d869e8-f69c-4176-c89b-6bf2034848b4"
      },
      "source": [
        "x = pd.get_dummies(x, columns=['Sex', 'Pclass'])\n",
        "x.head()"
      ],
      "execution_count": null,
      "outputs": [
        {
          "output_type": "execute_result",
          "data": {
            "text/html": [
              "<div>\n",
              "<style scoped>\n",
              "    .dataframe tbody tr th:only-of-type {\n",
              "        vertical-align: middle;\n",
              "    }\n",
              "\n",
              "    .dataframe tbody tr th {\n",
              "        vertical-align: top;\n",
              "    }\n",
              "\n",
              "    .dataframe thead th {\n",
              "        text-align: right;\n",
              "    }\n",
              "</style>\n",
              "<table border=\"1\" class=\"dataframe\">\n",
              "  <thead>\n",
              "    <tr style=\"text-align: right;\">\n",
              "      <th></th>\n",
              "      <th>Parch</th>\n",
              "      <th>Fare</th>\n",
              "      <th>Age</th>\n",
              "      <th>IsYoung</th>\n",
              "      <th>Sex_female</th>\n",
              "      <th>Sex_male</th>\n",
              "      <th>Pclass_1</th>\n",
              "      <th>Pclass_2</th>\n",
              "      <th>Pclass_3</th>\n",
              "    </tr>\n",
              "  </thead>\n",
              "  <tbody>\n",
              "    <tr>\n",
              "      <th>0</th>\n",
              "      <td>0</td>\n",
              "      <td>7.2500</td>\n",
              "      <td>22.0</td>\n",
              "      <td>0</td>\n",
              "      <td>0</td>\n",
              "      <td>1</td>\n",
              "      <td>0</td>\n",
              "      <td>0</td>\n",
              "      <td>1</td>\n",
              "    </tr>\n",
              "    <tr>\n",
              "      <th>1</th>\n",
              "      <td>0</td>\n",
              "      <td>71.2833</td>\n",
              "      <td>38.0</td>\n",
              "      <td>0</td>\n",
              "      <td>1</td>\n",
              "      <td>0</td>\n",
              "      <td>1</td>\n",
              "      <td>0</td>\n",
              "      <td>0</td>\n",
              "    </tr>\n",
              "    <tr>\n",
              "      <th>2</th>\n",
              "      <td>0</td>\n",
              "      <td>7.9250</td>\n",
              "      <td>26.0</td>\n",
              "      <td>0</td>\n",
              "      <td>1</td>\n",
              "      <td>0</td>\n",
              "      <td>0</td>\n",
              "      <td>0</td>\n",
              "      <td>1</td>\n",
              "    </tr>\n",
              "    <tr>\n",
              "      <th>3</th>\n",
              "      <td>0</td>\n",
              "      <td>53.1000</td>\n",
              "      <td>35.0</td>\n",
              "      <td>0</td>\n",
              "      <td>1</td>\n",
              "      <td>0</td>\n",
              "      <td>1</td>\n",
              "      <td>0</td>\n",
              "      <td>0</td>\n",
              "    </tr>\n",
              "    <tr>\n",
              "      <th>4</th>\n",
              "      <td>0</td>\n",
              "      <td>8.0500</td>\n",
              "      <td>35.0</td>\n",
              "      <td>0</td>\n",
              "      <td>0</td>\n",
              "      <td>1</td>\n",
              "      <td>0</td>\n",
              "      <td>0</td>\n",
              "      <td>1</td>\n",
              "    </tr>\n",
              "  </tbody>\n",
              "</table>\n",
              "</div>"
            ],
            "text/plain": [
              "   Parch     Fare   Age  IsYoung  ...  Sex_male  Pclass_1  Pclass_2  Pclass_3\n",
              "0      0   7.2500  22.0        0  ...         1         0         0         1\n",
              "1      0  71.2833  38.0        0  ...         0         1         0         0\n",
              "2      0   7.9250  26.0        0  ...         0         0         0         1\n",
              "3      0  53.1000  35.0        0  ...         0         1         0         0\n",
              "4      0   8.0500  35.0        0  ...         1         0         0         1\n",
              "\n",
              "[5 rows x 9 columns]"
            ]
          },
          "metadata": {
            "tags": []
          },
          "execution_count": 220
        }
      ]
    },
    {
      "cell_type": "code",
      "metadata": {
        "id": "dxDgdcsMWJ7G"
      },
      "source": [
        ""
      ],
      "execution_count": null,
      "outputs": []
    },
    {
      "cell_type": "markdown",
      "metadata": {
        "id": "nwt_7W2JWJ7I"
      },
      "source": [
        "## Task 3 - Train test split\n",
        "<img src=\"https://github.com/PrzemekSekula/DeepLearningClasses1/blob/master/Titanic/images/TrainTestSplit.jpg?raw=1\">\n",
        "Split the data into training and testing sets. Use the following parameters:\n",
        "- Size of testing set = 25% of entire datasize\n",
        "- Your training / testing sets should contain aproximately the same ratio of survived (use `stratify`)"
      ]
    },
    {
      "cell_type": "code",
      "metadata": {
        "id": "oGuDufwrWJ7J"
      },
      "source": [
        "from sklearn.model_selection import  train_test_split\n",
        "x_train, x_test, y_train, y_test = train_test_split(x,y, test_size=0.25, stratify = y, random_state=1)"
      ],
      "execution_count": null,
      "outputs": []
    },
    {
      "cell_type": "code",
      "metadata": {
        "id": "lG75taZAWJ7L",
        "colab": {
          "base_uri": "https://localhost:8080/"
        },
        "outputId": "40ff5e35-69d0-47bb-93aa-9e367057d572"
      },
      "source": [
        "print(\"x train: \", x_train.shape)\n",
        "print(\"x test: \", x_test.shape)\n",
        "print(\"y train: \", y_train.shape)\n",
        "print(\"y test: \", y_test.shape)"
      ],
      "execution_count": null,
      "outputs": [
        {
          "output_type": "stream",
          "text": [
            "x train:  (534, 9)\n",
            "x test:  (178, 9)\n",
            "y train:  (534,)\n",
            "y test:  (178,)\n"
          ],
          "name": "stdout"
        }
      ]
    },
    {
      "cell_type": "markdown",
      "metadata": {
        "id": "OeOmSiXDWJ7N"
      },
      "source": [
        "## Task 4 - Train your model\n",
        "Create and train your model. You may use any model you wish."
      ]
    },
    {
      "cell_type": "code",
      "metadata": {
        "id": "VOCi3XalWJ7N"
      },
      "source": [
        "from sklearn.linear_model import LogisticRegression\n",
        "\n",
        "model = LogisticRegression(max_iter=500).fit(x_train,y_train)"
      ],
      "execution_count": null,
      "outputs": []
    },
    {
      "cell_type": "markdown",
      "metadata": {
        "id": "A6ZsxQPCWJ7P"
      },
      "source": [
        "## Task 5 - Test your model\n",
        "Test your model. If necessary change something and train your model again.\n",
        "Your goal is to prepare the model with the accuracy >= 75%."
      ]
    },
    {
      "cell_type": "code",
      "metadata": {
        "id": "cVTYpfmcWJ7P",
        "colab": {
          "base_uri": "https://localhost:8080/"
        },
        "outputId": "eab69d9e-5c66-4f5d-ca32-186875bbf746"
      },
      "source": [
        "print(\"Train set accuracy: {:.3%}\".format(model.score(x_train,y_train)))\n",
        "print(\"Test set accuracy: {:.3%}\".format(model.score(x_test,y_test)))\n",
        "print(\"Train and test difference: {:.3%}\".format(model.score(x_train,y_train)-model.score(x_test,y_test)))"
      ],
      "execution_count": null,
      "outputs": [
        {
          "output_type": "stream",
          "text": [
            "Train set accuracy: 80.337%\n",
            "Test set accuracy: 78.090%\n",
            "Train and test difference: 2.247%\n"
          ],
          "name": "stdout"
        }
      ]
    },
    {
      "cell_type": "code",
      "metadata": {
        "id": "jGmrgbkaWJ7R",
        "colab": {
          "base_uri": "https://localhost:8080/"
        },
        "outputId": "7a32cc9c-fe80-4e58-9b6e-ee7cb923708f"
      },
      "source": [
        "from sklearn.ensemble import RandomForestClassifier\n",
        "model = RandomForestClassifier(min_samples_leaf=1).fit(x_train,y_train)\n",
        "print(\"Train set accuracy: {:.3%}\".format(model.score(x_train,y_train)))\n",
        "print(\"Test set accuracy: {:.3%}\".format(model.score(x_test,y_test)))\n",
        "print(\"Train and test difference: {:.3%}\".format(model.score(x_train,y_train)-model.score(x_test,y_test)))\n",
        "\n",
        "\n",
        "from sklearn.neighbors import KNeighborsClassifier\n",
        "model = KNeighborsClassifier(n_neighbors=3).fit(x_train,y_train)\n",
        "print(\"Train set accuracy: {:.3%}\".format(model.score(x_train,y_train)))\n",
        "print(\"Test set accuracy: {:.3%}\".format(model.score(x_test,y_test)))\n",
        "print(\"Train and test difference: {:.3%}\".format(model.score(x_train,y_train)-model.score(x_test,y_test)))\n"
      ],
      "execution_count": null,
      "outputs": [
        {
          "output_type": "stream",
          "text": [
            "Train set accuracy: 98.689%\n",
            "Test set accuracy: 79.213%\n",
            "Train and test difference: 19.476%\n",
            "Train set accuracy: 82.397%\n",
            "Test set accuracy: 69.101%\n",
            "Train and test difference: 13.296%\n"
          ],
          "name": "stdout"
        }
      ]
    }
  ]
}