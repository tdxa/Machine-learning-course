{
  "nbformat": 4,
  "nbformat_minor": 0,
  "metadata": {
    "kernelspec": {
      "display_name": "Python 3",
      "language": "python",
      "name": "python3"
    },
    "language_info": {
      "codemirror_mode": {
        "name": "ipython",
        "version": 3
      },
      "file_extension": ".py",
      "mimetype": "text/x-python",
      "name": "python",
      "nbconvert_exporter": "python",
      "pygments_lexer": "ipython3",
      "version": "3.7.6"
    },
    "colab": {
      "name": "Kopia notatnika LinearRegressionSKLearn - Empty.ipynb",
      "provenance": []
    }
  },
  "cells": [
    {
      "cell_type": "markdown",
      "metadata": {
        "id": "uuv9ktzry9Fm"
      },
      "source": [
        "# Linear Regression in Sci-Kit Learn - Introduction\n",
        "\n",
        "This dataset concerns housing values in suburbs of Boston. The original dataset was taken from the StatLib library which is maintained at Carnegie Mellon University, here it is downloaded from [UCI Machine Learning Repository](https://archive.ics.uci.edu/ml/machine-learning-databases/housing/).\n",
        "\n",
        "Your goal is to create and train a model that can estimate the average housing price."
      ]
    },
    {
      "cell_type": "markdown",
      "metadata": {
        "id": "bs0JC_0sy9Fo"
      },
      "source": [
        "### Dataset description (columns)\n",
        "\n",
        "     1. CRIM     per capita crime rate by town\n",
        "     2. ZN       proportion of residential land zoned for lots over \n",
        "                 25,000 sq.ft.\n",
        "     3. INDUS    proportion of non-retail business acres per town\n",
        "     4. CHAS     Charles River dummy variable (= 1 if tract bounds \n",
        "                 river; 0 otherwise)\n",
        "     5. NOX      nitric oxides concentration (parts per 10 million)\n",
        "     6. RM       average number of rooms per dwelling\n",
        "     7. AGE      proportion of owner-occupied units built prior to 1940\n",
        "     8. DIS      weighted distances to five Boston employment centres\n",
        "     9. RAD      index of accessibility to radial highways\n",
        "    10. TAX      full-value property-tax rate per 10,000 USD\n",
        "    11. PTRATIO  pupil-teacher ratio by town\n",
        "    12. B        1000(Bk - 0.63)^2 where Bk is the proportion of blacks \n",
        "                 by town\n",
        "    13. LSTAT    % lower status of the population\n",
        "    14. MEDV     Median value of owner-occupied homes in 1000's of dollars\n",
        "    "
      ]
    },
    {
      "cell_type": "code",
      "metadata": {
        "id": "RCLp6TCHy9Fp"
      },
      "source": [
        "import pandas as pd\n",
        "import numpy as np"
      ],
      "execution_count": null,
      "outputs": []
    },
    {
      "cell_type": "markdown",
      "metadata": {
        "id": "2OJEbesoy9Ft"
      },
      "source": [
        "Load and display data."
      ]
    },
    {
      "cell_type": "code",
      "metadata": {
        "id": "Lhg-gvL0y9Ft",
        "colab": {
          "base_uri": "https://localhost:8080/"
        },
        "outputId": "0e50d725-f704-4497-9067-e44dc5171aa6"
      },
      "source": [
        "# Uncomment this if you are using Google Colab\n",
        "!wget https://raw.githubusercontent.com/PrzemekSekula/DeepLearningClasses1/master/LinearRegressionSKLearn/housing.csv"
      ],
      "execution_count": null,
      "outputs": [
        {
          "output_type": "stream",
          "text": [
            "--2020-11-11 20:43:07--  https://raw.githubusercontent.com/PrzemekSekula/DeepLearningClasses1/master/LinearRegressionSKLearn/housing.csv\n",
            "Resolving raw.githubusercontent.com (raw.githubusercontent.com)... 151.101.0.133, 151.101.64.133, 151.101.128.133, ...\n",
            "Connecting to raw.githubusercontent.com (raw.githubusercontent.com)|151.101.0.133|:443... connected.\n",
            "HTTP request sent, awaiting response... 200 OK\n",
            "Length: 38448 (38K) [text/plain]\n",
            "Saving to: ‘housing.csv’\n",
            "\n",
            "housing.csv         100%[===================>]  37.55K  --.-KB/s    in 0.02s   \n",
            "\n",
            "2020-11-11 20:43:08 (2.38 MB/s) - ‘housing.csv’ saved [38448/38448]\n",
            "\n"
          ],
          "name": "stdout"
        }
      ]
    },
    {
      "cell_type": "code",
      "metadata": {
        "id": "C4pLAiYSy9Fw",
        "colab": {
          "base_uri": "https://localhost:8080/",
          "height": 212
        },
        "outputId": "83074e12-4c2e-4c15-a55b-dc0e27c42d85"
      },
      "source": [
        "df = pd.read_csv('housing.csv')\n",
        "\n",
        "print(df.shape)\n",
        "df.head()"
      ],
      "execution_count": null,
      "outputs": [
        {
          "output_type": "stream",
          "text": [
            "(506, 14)\n"
          ],
          "name": "stdout"
        },
        {
          "output_type": "execute_result",
          "data": {
            "text/html": [
              "<div>\n",
              "<style scoped>\n",
              "    .dataframe tbody tr th:only-of-type {\n",
              "        vertical-align: middle;\n",
              "    }\n",
              "\n",
              "    .dataframe tbody tr th {\n",
              "        vertical-align: top;\n",
              "    }\n",
              "\n",
              "    .dataframe thead th {\n",
              "        text-align: right;\n",
              "    }\n",
              "</style>\n",
              "<table border=\"1\" class=\"dataframe\">\n",
              "  <thead>\n",
              "    <tr style=\"text-align: right;\">\n",
              "      <th></th>\n",
              "      <th>CRIM</th>\n",
              "      <th>ZN</th>\n",
              "      <th>INDUS</th>\n",
              "      <th>CHAS</th>\n",
              "      <th>NOX</th>\n",
              "      <th>RM</th>\n",
              "      <th>AGE</th>\n",
              "      <th>DIS</th>\n",
              "      <th>RAD</th>\n",
              "      <th>TAX</th>\n",
              "      <th>PTRATIO</th>\n",
              "      <th>B</th>\n",
              "      <th>LSTAT</th>\n",
              "      <th>MEDV</th>\n",
              "    </tr>\n",
              "  </thead>\n",
              "  <tbody>\n",
              "    <tr>\n",
              "      <th>0</th>\n",
              "      <td>0.00632</td>\n",
              "      <td>18.0</td>\n",
              "      <td>2.31</td>\n",
              "      <td>0</td>\n",
              "      <td>0.538</td>\n",
              "      <td>6.575</td>\n",
              "      <td>65.2</td>\n",
              "      <td>4.0900</td>\n",
              "      <td>1</td>\n",
              "      <td>296.0</td>\n",
              "      <td>15.3</td>\n",
              "      <td>396.90</td>\n",
              "      <td>4.98</td>\n",
              "      <td>24.0</td>\n",
              "    </tr>\n",
              "    <tr>\n",
              "      <th>1</th>\n",
              "      <td>0.02731</td>\n",
              "      <td>0.0</td>\n",
              "      <td>7.07</td>\n",
              "      <td>0</td>\n",
              "      <td>0.469</td>\n",
              "      <td>6.421</td>\n",
              "      <td>78.9</td>\n",
              "      <td>4.9671</td>\n",
              "      <td>2</td>\n",
              "      <td>242.0</td>\n",
              "      <td>17.8</td>\n",
              "      <td>396.90</td>\n",
              "      <td>9.14</td>\n",
              "      <td>21.6</td>\n",
              "    </tr>\n",
              "    <tr>\n",
              "      <th>2</th>\n",
              "      <td>0.02729</td>\n",
              "      <td>0.0</td>\n",
              "      <td>7.07</td>\n",
              "      <td>0</td>\n",
              "      <td>0.469</td>\n",
              "      <td>7.185</td>\n",
              "      <td>61.1</td>\n",
              "      <td>4.9671</td>\n",
              "      <td>2</td>\n",
              "      <td>242.0</td>\n",
              "      <td>17.8</td>\n",
              "      <td>392.83</td>\n",
              "      <td>4.03</td>\n",
              "      <td>34.7</td>\n",
              "    </tr>\n",
              "    <tr>\n",
              "      <th>3</th>\n",
              "      <td>0.03237</td>\n",
              "      <td>0.0</td>\n",
              "      <td>2.18</td>\n",
              "      <td>0</td>\n",
              "      <td>0.458</td>\n",
              "      <td>6.998</td>\n",
              "      <td>45.8</td>\n",
              "      <td>6.0622</td>\n",
              "      <td>3</td>\n",
              "      <td>222.0</td>\n",
              "      <td>18.7</td>\n",
              "      <td>394.63</td>\n",
              "      <td>2.94</td>\n",
              "      <td>33.4</td>\n",
              "    </tr>\n",
              "    <tr>\n",
              "      <th>4</th>\n",
              "      <td>0.06905</td>\n",
              "      <td>0.0</td>\n",
              "      <td>2.18</td>\n",
              "      <td>0</td>\n",
              "      <td>0.458</td>\n",
              "      <td>7.147</td>\n",
              "      <td>54.2</td>\n",
              "      <td>6.0622</td>\n",
              "      <td>3</td>\n",
              "      <td>222.0</td>\n",
              "      <td>18.7</td>\n",
              "      <td>396.90</td>\n",
              "      <td>5.33</td>\n",
              "      <td>36.2</td>\n",
              "    </tr>\n",
              "  </tbody>\n",
              "</table>\n",
              "</div>"
            ],
            "text/plain": [
              "      CRIM    ZN  INDUS  CHAS    NOX  ...    TAX  PTRATIO       B  LSTAT  MEDV\n",
              "0  0.00632  18.0   2.31     0  0.538  ...  296.0     15.3  396.90   4.98  24.0\n",
              "1  0.02731   0.0   7.07     0  0.469  ...  242.0     17.8  396.90   9.14  21.6\n",
              "2  0.02729   0.0   7.07     0  0.469  ...  242.0     17.8  392.83   4.03  34.7\n",
              "3  0.03237   0.0   2.18     0  0.458  ...  222.0     18.7  394.63   2.94  33.4\n",
              "4  0.06905   0.0   2.18     0  0.458  ...  222.0     18.7  396.90   5.33  36.2\n",
              "\n",
              "[5 rows x 14 columns]"
            ]
          },
          "metadata": {
            "tags": []
          },
          "execution_count": 4
        }
      ]
    },
    {
      "cell_type": "markdown",
      "metadata": {
        "id": "DeRHZopjy9Fz"
      },
      "source": [
        "### Task 1\n",
        "Select X (columns `['CRIM', 'TAX', 'RM']`) and y (column `MEDV`)"
      ]
    },
    {
      "cell_type": "code",
      "metadata": {
        "id": "Rn6Ln7gxy9Fz"
      },
      "source": [
        "x = df[['CRIM', 'TAX', 'RM']]\n",
        "x.head()"
      ],
      "execution_count": null,
      "outputs": []
    },
    {
      "cell_type": "code",
      "metadata": {
        "id": "__XOc1joy9F3"
      },
      "source": [
        "y = df['MEDV']\n",
        "y.head()"
      ],
      "execution_count": null,
      "outputs": []
    },
    {
      "cell_type": "markdown",
      "metadata": {
        "id": "6Mu1owAsy9F5"
      },
      "source": [
        "### Task 2\n",
        "Split data into two subsets\n",
        "- train subset: 70% of data\n",
        "- test subset: 30% of data\n",
        "- set random_state to 1"
      ]
    },
    {
      "cell_type": "code",
      "metadata": {
        "id": "yHb29vPZy9F6"
      },
      "source": [
        "from sklearn.model_selection import train_test_split"
      ],
      "execution_count": null,
      "outputs": []
    },
    {
      "cell_type": "code",
      "metadata": {
        "id": "ciCKZl2ey9F8"
      },
      "source": [
        "x_train, x_test, y_train, y_test = train_test_split(x,y, test_size=0.3, random_state=1)\n",
        "print(\"X train: \", x_train.shape)\n",
        "print(\"X test: \", x_test.shape)\n",
        "print(\"Y train: \", y_train.shape)\n",
        "print(\"Y test: \", y_test.shape)"
      ],
      "execution_count": null,
      "outputs": []
    },
    {
      "cell_type": "markdown",
      "metadata": {
        "id": "pOO9pHhty9F_"
      },
      "source": [
        "### Task 3\n",
        "Create and train linear regression model."
      ]
    },
    {
      "cell_type": "code",
      "metadata": {
        "id": "W4yXYZMky9GA",
        "colab": {
          "base_uri": "https://localhost:8080/"
        },
        "outputId": "96432d60-6240-4fe6-f37b-22567bb3256e"
      },
      "source": [
        "from sklearn.linear_model import LinearRegression\n",
        "import matplotlib.pyplot as plt\n",
        "\n",
        "model = LinearRegression().fit(x_train,y_train)\n",
        "model"
      ],
      "execution_count": null,
      "outputs": [
        {
          "output_type": "execute_result",
          "data": {
            "text/plain": [
              "LinearRegression(copy_X=True, fit_intercept=True, n_jobs=None, normalize=False)"
            ]
          },
          "metadata": {
            "tags": []
          },
          "execution_count": 18
        }
      ]
    },
    {
      "cell_type": "markdown",
      "metadata": {
        "id": "zr1TDsHny9GC"
      },
      "source": [
        "### Task 4\n",
        "Compute $R^2$ coefficient for train and test datasets. Use `model.score()` to do it.\n",
        "\n",
        "$$R^2=1-\\frac{\\Sigma{(y-\\hat{y})^2}}{\\Sigma{(y-\\overline{y})^2}}$$\n",
        "\n",
        "Where:\n",
        "- $y$ - real `y` values\n",
        "- $\\hat{y}$ - model predictions\n",
        "- $\\overline{y}$ - mean value of `y`"
      ]
    },
    {
      "cell_type": "code",
      "metadata": {
        "id": "4Y-S2l62y9GC",
        "colab": {
          "base_uri": "https://localhost:8080/"
        },
        "outputId": "7fa12fbf-12a3-4ca5-bb26-691f8b841093"
      },
      "source": [
        "print(\"R2 train:\", model.score(x_train,y_train))\n",
        "print(\"R2 test:\", model.score(x_test, y_test))"
      ],
      "execution_count": null,
      "outputs": [
        {
          "output_type": "stream",
          "text": [
            "R2 train: 0.5096603576929335\n",
            "R2 test: 0.6901893330926419\n"
          ],
          "name": "stdout"
        }
      ]
    },
    {
      "cell_type": "markdown",
      "metadata": {
        "id": "UMnscRg2y9GF"
      },
      "source": [
        "### MAPE - Mean Absolute Percentage Error\n",
        "\n",
        "$$MAPE = \\frac{1}{n} \\sum{ \\left\\lvert{\\frac{y-\\hat{y}}{y}}\\right\\rvert}$$\n",
        "\n",
        "Where:\n",
        "- $y$ - real `y` values\n",
        "- $\\hat{y}$ - model predictions\n",
        "- $n$ - number of samples"
      ]
    },
    {
      "cell_type": "code",
      "metadata": {
        "id": "TJip7C4iy9GF",
        "colab": {
          "base_uri": "https://localhost:8080/"
        },
        "outputId": "dc1edbe8-fbfb-4f2b-dc4e-fd97423f2647"
      },
      "source": [
        "y_pred = model.predict(x_train)\n",
        "mape_train= np.mean(np.abs((y_train-y_pred) / y_train))\n",
        "print(\"Train MAPE [%]:\", mape_train*100)"
      ],
      "execution_count": null,
      "outputs": [
        {
          "output_type": "stream",
          "text": [
            "Train mape [%]: 21.552430568659016\n"
          ],
          "name": "stdout"
        }
      ]
    },
    {
      "cell_type": "markdown",
      "metadata": {
        "id": "-y7bdVF8y9GK"
      },
      "source": [
        "### Task 5\n",
        "Create a function mape, that returns  𝑀𝐴𝑃𝐸  value given  𝑋 ,  𝑦  and the model that is used to create  𝑦̂   estimates. Then use your function to compute  𝑀𝐴𝑃𝐸  for train and test datasets. "
      ]
    },
    {
      "cell_type": "code",
      "metadata": {
        "id": "z8C4M-9Jy9GL"
      },
      "source": [
        "def mape(model, X, y):\n",
        "    y_pred = model.predict(X)\n",
        "    return 100 * np.mean(np.abs(y - y_pred) / y)"
      ],
      "execution_count": null,
      "outputs": []
    },
    {
      "cell_type": "code",
      "metadata": {
        "id": "3VqXhLply9GN",
        "colab": {
          "base_uri": "https://localhost:8080/"
        },
        "outputId": "1680fdfd-c48d-44ad-f78b-f6eace4177f1"
      },
      "source": [
        "print ('Train MAPE:', mape(model, x_train, y_train))\n",
        "print ('Test MAPE:', mape(model, x_test, y_test))"
      ],
      "execution_count": null,
      "outputs": [
        {
          "output_type": "stream",
          "text": [
            "Train MAPE: 21.552430568659016\n",
            "Test MAPE: 20.78375470750852\n"
          ],
          "name": "stdout"
        }
      ]
    },
    {
      "cell_type": "markdown",
      "metadata": {
        "id": "n_FpnPxRy9GQ"
      },
      "source": [
        "## Random forest regressor"
      ]
    },
    {
      "cell_type": "code",
      "metadata": {
        "id": "DRz6c8NRy9GR",
        "colab": {
          "base_uri": "https://localhost:8080/"
        },
        "outputId": "5e9ddf27-4ba8-4dcd-8102-fbf122902083"
      },
      "source": [
        "from sklearn.ensemble import RandomForestRegressor\n",
        "model = RandomForestRegressor().fit(x_train,y_train)\n",
        "\n",
        "print ('Train MAPE:', mape(model, x_train, y_train))\n",
        "print ('Test MAPE:', mape(model, x_test, y_test))\n",
        "# Tutaj tej overfitting"
      ],
      "execution_count": null,
      "outputs": [
        {
          "output_type": "stream",
          "text": [
            "Train MAPE: 7.6961234623951995\n",
            "Test MAPE: 16.99907377803256\n"
          ],
          "name": "stdout"
        }
      ]
    },
    {
      "cell_type": "markdown",
      "metadata": {
        "id": "XmvYPdhuy9GT"
      },
      "source": [
        "### Task 6\n",
        "Experiment with `min_samples_leaf` parameter to avoid overfitting."
      ]
    },
    {
      "cell_type": "code",
      "metadata": {
        "id": "uinfZHzSy9GU",
        "colab": {
          "base_uri": "https://localhost:8080/"
        },
        "outputId": "22bfd501-f5a5-4e39-f70a-94032f3a5fac"
      },
      "source": [
        "model = RandomForestRegressor(min_samples_leaf=15).fit(x_train,y_train)\n",
        "\n",
        "print ('Train MAPE:', mape(model, x_train, y_train))\n",
        "print ('Test MAPE:', mape(model, x_test, y_test))"
      ],
      "execution_count": null,
      "outputs": [
        {
          "output_type": "stream",
          "text": [
            "Train MAPE: 17.274656322415417\n",
            "Test MAPE: 18.725356761040242\n"
          ],
          "name": "stdout"
        }
      ]
    },
    {
      "cell_type": "markdown",
      "metadata": {
        "id": "p-95mUlEy9GY"
      },
      "source": [
        "# Part 2"
      ]
    },
    {
      "cell_type": "markdown",
      "metadata": {
        "id": "maOGSU43y9GZ"
      },
      "source": [
        "### Task 7\n",
        "Select all 13 features as $X$ and split dataset into two subsets (the same split ratio and random state)."
      ]
    },
    {
      "cell_type": "code",
      "metadata": {
        "id": "udXOAOZoy9GZ",
        "colab": {
          "base_uri": "https://localhost:8080/",
          "height": 195
        },
        "outputId": "0e457614-c3cf-457f-8278-646fa05624e5"
      },
      "source": [
        "df.head()\n"
      ],
      "execution_count": null,
      "outputs": [
        {
          "output_type": "execute_result",
          "data": {
            "text/html": [
              "<div>\n",
              "<style scoped>\n",
              "    .dataframe tbody tr th:only-of-type {\n",
              "        vertical-align: middle;\n",
              "    }\n",
              "\n",
              "    .dataframe tbody tr th {\n",
              "        vertical-align: top;\n",
              "    }\n",
              "\n",
              "    .dataframe thead th {\n",
              "        text-align: right;\n",
              "    }\n",
              "</style>\n",
              "<table border=\"1\" class=\"dataframe\">\n",
              "  <thead>\n",
              "    <tr style=\"text-align: right;\">\n",
              "      <th></th>\n",
              "      <th>CRIM</th>\n",
              "      <th>ZN</th>\n",
              "      <th>INDUS</th>\n",
              "      <th>CHAS</th>\n",
              "      <th>NOX</th>\n",
              "      <th>RM</th>\n",
              "      <th>AGE</th>\n",
              "      <th>DIS</th>\n",
              "      <th>RAD</th>\n",
              "      <th>TAX</th>\n",
              "      <th>PTRATIO</th>\n",
              "      <th>B</th>\n",
              "      <th>LSTAT</th>\n",
              "      <th>MEDV</th>\n",
              "    </tr>\n",
              "  </thead>\n",
              "  <tbody>\n",
              "    <tr>\n",
              "      <th>0</th>\n",
              "      <td>0.00632</td>\n",
              "      <td>18.0</td>\n",
              "      <td>2.31</td>\n",
              "      <td>0</td>\n",
              "      <td>0.538</td>\n",
              "      <td>6.575</td>\n",
              "      <td>65.2</td>\n",
              "      <td>4.0900</td>\n",
              "      <td>1</td>\n",
              "      <td>296.0</td>\n",
              "      <td>15.3</td>\n",
              "      <td>396.90</td>\n",
              "      <td>4.98</td>\n",
              "      <td>24.0</td>\n",
              "    </tr>\n",
              "    <tr>\n",
              "      <th>1</th>\n",
              "      <td>0.02731</td>\n",
              "      <td>0.0</td>\n",
              "      <td>7.07</td>\n",
              "      <td>0</td>\n",
              "      <td>0.469</td>\n",
              "      <td>6.421</td>\n",
              "      <td>78.9</td>\n",
              "      <td>4.9671</td>\n",
              "      <td>2</td>\n",
              "      <td>242.0</td>\n",
              "      <td>17.8</td>\n",
              "      <td>396.90</td>\n",
              "      <td>9.14</td>\n",
              "      <td>21.6</td>\n",
              "    </tr>\n",
              "    <tr>\n",
              "      <th>2</th>\n",
              "      <td>0.02729</td>\n",
              "      <td>0.0</td>\n",
              "      <td>7.07</td>\n",
              "      <td>0</td>\n",
              "      <td>0.469</td>\n",
              "      <td>7.185</td>\n",
              "      <td>61.1</td>\n",
              "      <td>4.9671</td>\n",
              "      <td>2</td>\n",
              "      <td>242.0</td>\n",
              "      <td>17.8</td>\n",
              "      <td>392.83</td>\n",
              "      <td>4.03</td>\n",
              "      <td>34.7</td>\n",
              "    </tr>\n",
              "    <tr>\n",
              "      <th>3</th>\n",
              "      <td>0.03237</td>\n",
              "      <td>0.0</td>\n",
              "      <td>2.18</td>\n",
              "      <td>0</td>\n",
              "      <td>0.458</td>\n",
              "      <td>6.998</td>\n",
              "      <td>45.8</td>\n",
              "      <td>6.0622</td>\n",
              "      <td>3</td>\n",
              "      <td>222.0</td>\n",
              "      <td>18.7</td>\n",
              "      <td>394.63</td>\n",
              "      <td>2.94</td>\n",
              "      <td>33.4</td>\n",
              "    </tr>\n",
              "    <tr>\n",
              "      <th>4</th>\n",
              "      <td>0.06905</td>\n",
              "      <td>0.0</td>\n",
              "      <td>2.18</td>\n",
              "      <td>0</td>\n",
              "      <td>0.458</td>\n",
              "      <td>7.147</td>\n",
              "      <td>54.2</td>\n",
              "      <td>6.0622</td>\n",
              "      <td>3</td>\n",
              "      <td>222.0</td>\n",
              "      <td>18.7</td>\n",
              "      <td>396.90</td>\n",
              "      <td>5.33</td>\n",
              "      <td>36.2</td>\n",
              "    </tr>\n",
              "  </tbody>\n",
              "</table>\n",
              "</div>"
            ],
            "text/plain": [
              "      CRIM    ZN  INDUS  CHAS    NOX  ...    TAX  PTRATIO       B  LSTAT  MEDV\n",
              "0  0.00632  18.0   2.31     0  0.538  ...  296.0     15.3  396.90   4.98  24.0\n",
              "1  0.02731   0.0   7.07     0  0.469  ...  242.0     17.8  396.90   9.14  21.6\n",
              "2  0.02729   0.0   7.07     0  0.469  ...  242.0     17.8  392.83   4.03  34.7\n",
              "3  0.03237   0.0   2.18     0  0.458  ...  222.0     18.7  394.63   2.94  33.4\n",
              "4  0.06905   0.0   2.18     0  0.458  ...  222.0     18.7  396.90   5.33  36.2\n",
              "\n",
              "[5 rows x 14 columns]"
            ]
          },
          "metadata": {
            "tags": []
          },
          "execution_count": 61
        }
      ]
    },
    {
      "cell_type": "code",
      "metadata": {
        "id": "A1Bakwpay9Gc",
        "colab": {
          "base_uri": "https://localhost:8080/",
          "height": 195
        },
        "outputId": "85b30640-464a-4bff-87c7-f569381b1546"
      },
      "source": [
        "x = df[['CRIM','ZN', 'INDUS', 'CHAS', 'NOX', 'RM', 'AGE', 'DIS', 'RAD', 'TAX', 'PTRATIO', 'B', 'LSTAT']]\n",
        "x.head()"
      ],
      "execution_count": null,
      "outputs": [
        {
          "output_type": "execute_result",
          "data": {
            "text/html": [
              "<div>\n",
              "<style scoped>\n",
              "    .dataframe tbody tr th:only-of-type {\n",
              "        vertical-align: middle;\n",
              "    }\n",
              "\n",
              "    .dataframe tbody tr th {\n",
              "        vertical-align: top;\n",
              "    }\n",
              "\n",
              "    .dataframe thead th {\n",
              "        text-align: right;\n",
              "    }\n",
              "</style>\n",
              "<table border=\"1\" class=\"dataframe\">\n",
              "  <thead>\n",
              "    <tr style=\"text-align: right;\">\n",
              "      <th></th>\n",
              "      <th>CRIM</th>\n",
              "      <th>ZN</th>\n",
              "      <th>INDUS</th>\n",
              "      <th>CHAS</th>\n",
              "      <th>NOX</th>\n",
              "      <th>RM</th>\n",
              "      <th>AGE</th>\n",
              "      <th>DIS</th>\n",
              "      <th>RAD</th>\n",
              "      <th>TAX</th>\n",
              "      <th>PTRATIO</th>\n",
              "      <th>B</th>\n",
              "      <th>LSTAT</th>\n",
              "    </tr>\n",
              "  </thead>\n",
              "  <tbody>\n",
              "    <tr>\n",
              "      <th>0</th>\n",
              "      <td>0.00632</td>\n",
              "      <td>18.0</td>\n",
              "      <td>2.31</td>\n",
              "      <td>0</td>\n",
              "      <td>0.538</td>\n",
              "      <td>6.575</td>\n",
              "      <td>65.2</td>\n",
              "      <td>4.0900</td>\n",
              "      <td>1</td>\n",
              "      <td>296.0</td>\n",
              "      <td>15.3</td>\n",
              "      <td>396.90</td>\n",
              "      <td>4.98</td>\n",
              "    </tr>\n",
              "    <tr>\n",
              "      <th>1</th>\n",
              "      <td>0.02731</td>\n",
              "      <td>0.0</td>\n",
              "      <td>7.07</td>\n",
              "      <td>0</td>\n",
              "      <td>0.469</td>\n",
              "      <td>6.421</td>\n",
              "      <td>78.9</td>\n",
              "      <td>4.9671</td>\n",
              "      <td>2</td>\n",
              "      <td>242.0</td>\n",
              "      <td>17.8</td>\n",
              "      <td>396.90</td>\n",
              "      <td>9.14</td>\n",
              "    </tr>\n",
              "    <tr>\n",
              "      <th>2</th>\n",
              "      <td>0.02729</td>\n",
              "      <td>0.0</td>\n",
              "      <td>7.07</td>\n",
              "      <td>0</td>\n",
              "      <td>0.469</td>\n",
              "      <td>7.185</td>\n",
              "      <td>61.1</td>\n",
              "      <td>4.9671</td>\n",
              "      <td>2</td>\n",
              "      <td>242.0</td>\n",
              "      <td>17.8</td>\n",
              "      <td>392.83</td>\n",
              "      <td>4.03</td>\n",
              "    </tr>\n",
              "    <tr>\n",
              "      <th>3</th>\n",
              "      <td>0.03237</td>\n",
              "      <td>0.0</td>\n",
              "      <td>2.18</td>\n",
              "      <td>0</td>\n",
              "      <td>0.458</td>\n",
              "      <td>6.998</td>\n",
              "      <td>45.8</td>\n",
              "      <td>6.0622</td>\n",
              "      <td>3</td>\n",
              "      <td>222.0</td>\n",
              "      <td>18.7</td>\n",
              "      <td>394.63</td>\n",
              "      <td>2.94</td>\n",
              "    </tr>\n",
              "    <tr>\n",
              "      <th>4</th>\n",
              "      <td>0.06905</td>\n",
              "      <td>0.0</td>\n",
              "      <td>2.18</td>\n",
              "      <td>0</td>\n",
              "      <td>0.458</td>\n",
              "      <td>7.147</td>\n",
              "      <td>54.2</td>\n",
              "      <td>6.0622</td>\n",
              "      <td>3</td>\n",
              "      <td>222.0</td>\n",
              "      <td>18.7</td>\n",
              "      <td>396.90</td>\n",
              "      <td>5.33</td>\n",
              "    </tr>\n",
              "  </tbody>\n",
              "</table>\n",
              "</div>"
            ],
            "text/plain": [
              "      CRIM    ZN  INDUS  CHAS    NOX  ...  RAD    TAX  PTRATIO       B  LSTAT\n",
              "0  0.00632  18.0   2.31     0  0.538  ...    1  296.0     15.3  396.90   4.98\n",
              "1  0.02731   0.0   7.07     0  0.469  ...    2  242.0     17.8  396.90   9.14\n",
              "2  0.02729   0.0   7.07     0  0.469  ...    2  242.0     17.8  392.83   4.03\n",
              "3  0.03237   0.0   2.18     0  0.458  ...    3  222.0     18.7  394.63   2.94\n",
              "4  0.06905   0.0   2.18     0  0.458  ...    3  222.0     18.7  396.90   5.33\n",
              "\n",
              "[5 rows x 13 columns]"
            ]
          },
          "metadata": {
            "tags": []
          },
          "execution_count": 62
        }
      ]
    },
    {
      "cell_type": "code",
      "metadata": {
        "id": "ygQZWDwky9Gf",
        "colab": {
          "base_uri": "https://localhost:8080/"
        },
        "outputId": "37e344b9-8df4-4488-f96d-94a4a63cdf36"
      },
      "source": [
        "y = df['MEDV']\n",
        "y.head()"
      ],
      "execution_count": null,
      "outputs": [
        {
          "output_type": "execute_result",
          "data": {
            "text/plain": [
              "0    24.0\n",
              "1    21.6\n",
              "2    34.7\n",
              "3    33.4\n",
              "4    36.2\n",
              "Name: MEDV, dtype: float64"
            ]
          },
          "metadata": {
            "tags": []
          },
          "execution_count": 63
        }
      ]
    },
    {
      "cell_type": "code",
      "metadata": {
        "id": "tuXnEtF4y9Gh",
        "colab": {
          "base_uri": "https://localhost:8080/"
        },
        "outputId": "8d20eb3d-72e4-43ca-b383-fc8c3a0678a3"
      },
      "source": [
        "x_train, x_test, y_train, y_test = train_test_split(x,y, test_size=0.3, random_state=1)\n",
        "print(\"X train: \", x_train.shape)\n",
        "print(\"X test: \", x_test.shape)\n",
        "print(\"Y train: \", y_train.shape)\n",
        "print(\"Y test: \", y_test.shape)"
      ],
      "execution_count": null,
      "outputs": [
        {
          "output_type": "stream",
          "text": [
            "X train:  (354, 13)\n",
            "X test:  (152, 13)\n",
            "Y train:  (354,)\n",
            "Y test:  (152,)\n"
          ],
          "name": "stdout"
        }
      ]
    },
    {
      "cell_type": "markdown",
      "metadata": {
        "id": "sh_FiMGdy9Gj"
      },
      "source": [
        "### Task 8\n",
        "Train and test linear regression model. Compare the results with the previous ones."
      ]
    },
    {
      "cell_type": "code",
      "metadata": {
        "id": "GAWyvNgCy9Gk",
        "colab": {
          "base_uri": "https://localhost:8080/"
        },
        "outputId": "16816f29-c630-41b3-a17a-031cefedeea6"
      },
      "source": [
        "model = LinearRegression().fit(x_train,y_train)\n",
        "\n",
        "print ('Train MAPE:', mape(model, x_train, y_train))\n",
        "print ('Test MAPE:', mape(model, x_test, y_test))"
      ],
      "execution_count": null,
      "outputs": [
        {
          "output_type": "stream",
          "text": [
            "Train MAPE: 16.714624689642484\n",
            "Test MAPE: 16.207536032281517\n"
          ],
          "name": "stdout"
        }
      ]
    },
    {
      "cell_type": "markdown",
      "metadata": {
        "id": "qYuY0oS2y9Gp"
      },
      "source": [
        "### Task 9\n",
        "Train and test Random Forest model (keep all parameters default). Does your model suffer from overfitting / underfitting?"
      ]
    },
    {
      "cell_type": "code",
      "metadata": {
        "id": "prf7JZ8Sy9Gp",
        "colab": {
          "base_uri": "https://localhost:8080/"
        },
        "outputId": "32bea21f-96e3-460a-d4ac-6fd27348d3a1"
      },
      "source": [
        "model = RandomForestRegressor().fit(x_train,y_train)\n",
        "\n",
        "print ('Train MAPE:', mape(model, x_train, y_train))\n",
        "print ('Test MAPE:', mape(model, x_test, y_test))"
      ],
      "execution_count": null,
      "outputs": [
        {
          "output_type": "stream",
          "text": [
            "Train MAPE: 4.245851611741198\n",
            "Test MAPE: 11.559038472404808\n"
          ],
          "name": "stdout"
        }
      ]
    },
    {
      "cell_type": "markdown",
      "metadata": {
        "id": "WqzMCfUNy9Gu"
      },
      "source": [
        "### Task 10\n",
        "Try to modify `min_samples_leaf` parameter to get the best model possible."
      ]
    },
    {
      "cell_type": "code",
      "metadata": {
        "id": "pERLL6iMy9Gv",
        "colab": {
          "base_uri": "https://localhost:8080/"
        },
        "outputId": "315fafc6-a29d-458c-f349-54414c04d1e1"
      },
      "source": [
        "model = RandomForestRegressor(min_samples_leaf=11).fit(x_train,y_train)\n",
        "\n",
        "print ('Train MAPE:', mape(model, x_train, y_train))\n",
        "print ('Test MAPE:', mape(model, x_test, y_test))"
      ],
      "execution_count": null,
      "outputs": [
        {
          "output_type": "stream",
          "text": [
            "Train MAPE: 10.894179800515962\n",
            "Test MAPE: 13.932058830126358\n"
          ],
          "name": "stdout"
        }
      ]
    }
  ]
}