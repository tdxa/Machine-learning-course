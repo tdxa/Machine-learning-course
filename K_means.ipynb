{
  "nbformat": 4,
  "nbformat_minor": 0,
  "metadata": {
    "kernelspec": {
      "display_name": "Python 3",
      "language": "python",
      "name": "python3"
    },
    "language_info": {
      "codemirror_mode": {
        "name": "ipython",
        "version": 3
      },
      "file_extension": ".py",
      "mimetype": "text/x-python",
      "name": "python",
      "nbconvert_exporter": "python",
      "pygments_lexer": "ipython3",
      "version": "3.8.3"
    },
    "colab": {
      "name": "K-means.ipynb",
      "provenance": [],
      "collapsed_sections": []
    }
  },
  "cells": [
    {
      "cell_type": "markdown",
      "metadata": {
        "id": "tQW7a2Uvis_f"
      },
      "source": [
        "# Zadanie\n",
        "Zadanie polega na własnoręcznym zaimplementowaniu algorytmu k-means. Algorytm powinien być zaimplementowany w oparciu o bibliotekę `Numpy`. Podczas implementacji nie wolno korzystać z bibliotek typu `sklearn`, które mają ten algorytm wbudowany. Dopuszczalne jest natomiast wykorzystywanie tego rodzaju bibliotek w celach porównawczych, do sprawdzenia czy nasz algorytm działa poprawnie. Ocenie podlega rozwiązanie i odpowiedź.\n",
        "\n",
        "\n",
        "- Zaimplementuj `K-means` w przestrzeni dwuwymiarowej (każdy punkt ma dwie współrzędne). - *(dostateczny)*\n",
        "- Zmniejsz problem związany z 'utknięciem' w lokalnym optimum poprzez wywołanie algorytmu 100 razy i wybranie rozwiązania z najmniejszą funkcją kosztu - *(dostateczny plus)*\n",
        "- Zwizualizuj wyniki na wykresie - *(dobry)*\n",
        "- Rozszerz swoją implementację o `K-means++` lub zmień ją tak by działała w n-wymiarowej przestrzeni - *(bardzo dobry)*"
      ]
    },
    {
      "cell_type": "code",
      "metadata": {
        "id": "QpInOsBcis_n"
      },
      "source": [
        "%matplotlib inline\n",
        "import matplotlib.pyplot as plt\n",
        "import numpy as np\n",
        "import pandas as pd\n",
        "import seaborn as sns"
      ],
      "execution_count": 15,
      "outputs": []
    },
    {
      "cell_type": "markdown",
      "metadata": {
        "id": "hRE2-AJCis_o"
      },
      "source": [
        "Przykładowy kod do generowania punktów"
      ]
    },
    {
      "cell_type": "code",
      "metadata": {
        "id": "vTuIPjMQis_p"
      },
      "source": [
        "points = np.vstack(((np.random.randn(150, 2) * 0.75 + np.array([1, 0])),\n",
        "                  (np.random.randn(50, 2) * 0.25 + np.array([-0.5, 0.5])),\n",
        "                  (np.random.randn(50, 2) * 0.5 + np.array([-0.5, -0.5]))))"
      ],
      "execution_count": 73,
      "outputs": []
    },
    {
      "cell_type": "markdown",
      "metadata": {
        "id": "9GaEd1Cwis_p"
      },
      "source": [
        "Przykładowy kod do wyświetlenia wygenerowanych punktów"
      ]
    },
    {
      "cell_type": "code",
      "metadata": {
        "id": "5dqeSDKZis_q",
        "colab": {
          "base_uri": "https://localhost:8080/",
          "height": 265
        },
        "outputId": "29cb29f5-4f67-4a5e-a59f-cb265bbedf79"
      },
      "source": [
        "plt.scatter(points[:, 0], points[:, 1])\n",
        "ax = plt.gca()"
      ],
      "execution_count": 143,
      "outputs": [
        {
          "output_type": "display_data",
          "data": {
            "image/png": "[encoded data removed]",
            "text/plain": [
              "<Figure size 432x288 with 1 Axes>"
            ]
          },
          "metadata": {
            "tags": [],
            "needs_background": "light"
          }
        }
      ]
    },
    {
      "cell_type": "code",
      "metadata": {
        "id": "c3C-6Di0is_r",
        "colab": {
          "base_uri": "https://localhost:8080/"
        },
        "outputId": "a55ad88a-7efc-4a7c-9963-205a8ac942b7"
      },
      "source": [
        "df_points = pd.DataFrame(points, columns=['f1','f2'])\r\n",
        "points.shape"
      ],
      "execution_count": 75,
      "outputs": [
        {
          "output_type": "execute_result",
          "data": {
            "text/plain": [
              "(250, 2)"
            ]
          },
          "metadata": {
            "tags": []
          },
          "execution_count": 75
        }
      ]
    },
    {
      "cell_type": "markdown",
      "metadata": {
        "id": "Anm7-bsUk7Ns"
      },
      "source": [
        "Definiowanie zmiennych globalnych\r\n",
        "\r\n",
        "\r\n",
        "*   `TRAINING EXAMPLES` - liczba punktów w zbiorze danych\r\n",
        "*   `FEATURES` - \r\n",
        "*   `CLUSTERS` - liczba oznaczająca ilość klastrów (oznacza to również liczbę centroidów, które pojawią się wokół danych)\r\n",
        "*   `ITERATIONS` - liczba iteracji"
      ]
    },
    {
      "cell_type": "code",
      "metadata": {
        "id": "NJ_IwL8ZG4JL"
      },
      "source": [
        "TRAINING_EXAMPLES = points.shape[0];\r\n",
        "FEATURES = points.shape[1];\r\n",
        "CLUSTERS = 3;\r\n",
        "ITERATIONS = 100;\r\n",
        "RANDOM_SEED = 10"
      ],
      "execution_count": 98,
      "outputs": []
    },
    {
      "cell_type": "markdown",
      "metadata": {
        "id": "wuJV2C90nnSS"
      },
      "source": [
        "Deklracja zmiennej `output_kmeans` w postaci dziennika, w któym `keys` będą oznaczać numer klastra, a `values` przyporządkowane punkty do danego klastra."
      ]
    },
    {
      "cell_type": "code",
      "metadata": {
        "colab": {
          "base_uri": "https://localhost:8080/"
        },
        "id": "Q7RpsTsSnmr8",
        "outputId": "92a4af73-02b7-437b-919d-f42c33405ce3"
      },
      "source": [
        "output_kmeans = {}\r\n",
        "\r\n",
        "for i in range(CLUSTERS):\r\n",
        "  output_kmeans[i] = [];\r\n",
        "\r\n",
        "output_kmeans"
      ],
      "execution_count": 91,
      "outputs": [
        {
          "output_type": "execute_result",
          "data": {
            "text/plain": [
              "{0: [], 1: [], 2: []}"
            ]
          },
          "metadata": {
            "tags": []
          },
          "execution_count": 91
        }
      ]
    },
    {
      "cell_type": "markdown",
      "metadata": {
        "id": "DrFNHfpFlCId"
      },
      "source": [
        "Zaimpotowanie biblioteki `random` oraz ustalenie losowo centroidów z naszego zbioru danych. \r\n",
        "Stworzenie pustej tablicy centroidów jest poprzez odrówcenie tablicy 'points'. Po wykonaniu pętli mamy wymiary **features x clusters** gdzie każda kolumna jest centroidem dla jednego klustera."
      ]
    },
    {
      "cell_type": "code",
      "metadata": {
        "colab": {
          "base_uri": "https://localhost:8080/"
        },
        "id": "KHFN_0DBG4G9",
        "outputId": "36ba1dc6-ab0d-4865-de1f-cee834298bfd"
      },
      "source": [
        "import random\r\n",
        "\r\n",
        "centroids = np.array([]).reshape(FEATURES,0);\r\n",
        "\r\n",
        "for i in range(CLUSTERS):\r\n",
        "  # random.seed(30)\r\n",
        "  rand=random.randint(0,TRAINING_EXAMPLES-1,)\r\n",
        "  centroids = np.c_[centroids, points[rand]]\r\n",
        "\r\n",
        "centroids"
      ],
      "execution_count": 178,
      "outputs": [
        {
          "output_type": "execute_result",
          "data": {
            "text/plain": [
              "array([[ 0.06264554, -0.30853284,  0.90306899],\n",
              "       [-0.34655539,  0.81898122, -0.19887434]])"
            ]
          },
          "metadata": {
            "tags": []
          },
          "execution_count": 178
        }
      ]
    },
    {
      "cell_type": "code",
      "metadata": {
        "colab": {
          "base_uri": "https://localhost:8080/",
          "height": 265
        },
        "id": "YQFa7uVu8rSN",
        "outputId": "326f2b5d-7ed2-45cf-fd31-081062f5e0b2"
      },
      "source": [
        "plt.scatter(points[:, 0], points[:, 1], c='black')\r\n",
        "plt.scatter(centroids[0], centroids[1], c='red')\r\n",
        "ax = plt.gca()"
      ],
      "execution_count": 182,
      "outputs": [
        {
          "output_type": "display_data",
          "data": {
            "image/png": "[encoded data removed]",
            "text/plain": [
              "<Figure size 432x288 with 1 Axes>"
            ]
          },
          "metadata": {
            "tags": [],
            "needs_background": "light"
          }
        }
      ]
    },
    {
      "cell_type": "markdown",
      "metadata": {
        "id": "I_XkNQCvtfia"
      },
      "source": [
        "Dla każdego punktu ze zbioru danych musimy obliczyć eculidian distance od centroidy i przypisać klaster na podstawie odległości, która jest najmniejsza.\r\n",
        "\r\n",
        "Znalezione odległości eukildesowe (tj. od każdego punktu do wszystkich centroidów) są zapisane w macierzy **training_example x clusters**, gdzie każdy wiersz zawiera odległość danego punktu od wszystkich centroid.\r\n",
        "\r\n",
        "Następnie na podstawie `min_index` przeprowadza się grupowanie punktów ze zbioru danych - dopasowanie do danego klastera."
      ]
    },
    {
      "cell_type": "code",
      "metadata": {
        "id": "BJIy4hHYG4EE"
      },
      "source": [
        "def my_kmean(iterations):\r\n",
        "  for i in range(iterations):\r\n",
        "      euclidian_distance = np.array([]).reshape(TRAINING_EXAMPLES, 0)\r\n",
        "\r\n",
        "      for k in range(CLUSTERS):\r\n",
        "        temp = np.power(points-centroids[:,k],2)\r\n",
        "        current_distance = np.sum(temp, axis=1)  # don't forget: wybieranie kolumny przez advanced indexing  z numpy!\r\n",
        "        euclidian_distance = np.c_[euclidian_distance, current_distance];\r\n",
        "\r\n",
        "      min_index = np.argmin(euclidian_distance,axis=1)+1\r\n",
        "\r\n",
        "      cluster_dict = {}\r\n",
        "\r\n",
        "      for k in range(CLUSTERS):\r\n",
        "        cluster_dict[k+1]= np.array([]).reshape(2,0)\r\n",
        "\r\n",
        "      for x in range(TRAINING_EXAMPLES):\r\n",
        "        cluster = min_index[x]\r\n",
        "        cluster_dict[cluster] = np.c_[cluster_dict[cluster], points[x]]\r\n",
        "\r\n",
        "      for k in range(CLUSTERS):\r\n",
        "        cluster_dict[k+1] = cluster_dict[k+1].T\r\n",
        "\r\n",
        "      for k in range(CLUSTERS):\r\n",
        "        centroids[:,k] = np.mean(cluster_dict[k+1], axis=0)\r\n",
        "      \r\n",
        "      return cluster_dict"
      ],
      "execution_count": 170,
      "outputs": []
    },
    {
      "cell_type": "code",
      "metadata": {
        "id": "3TQTEGCfG4AO"
      },
      "source": [
        "output_kmeans = my_kmean(ITERATIONS)\r\n",
        "\r\n",
        "output_kmeans\r\n"
      ],
      "execution_count": null,
      "outputs": []
    },
    {
      "cell_type": "code",
      "metadata": {
        "colab": {
          "base_uri": "https://localhost:8080/",
          "height": 265
        },
        "id": "soy4Q3CjV7WP",
        "outputId": "41a9c5f7-1aab-4880-c80c-a94a0b4b5626"
      },
      "source": [
        "color=['red','blue','green','cyan','magenta']\r\n",
        "labels=['cluster1','cluster2','cluster3','cluster4','cluster5']\r\n",
        "for k in range(CLUSTERS):\r\n",
        "    plt.scatter(output_kmeans[k+1][:,0],output_kmeans[k+1][:,1],c=color[k],label=labels[k])\r\n",
        "plt.scatter(centroids[0,:],centroids[1,:],s=300,c='yellow',label='Centroids')\r\n",
        "plt.legend()\r\n",
        "plt.show()"
      ],
      "execution_count": 173,
      "outputs": [
        {
          "output_type": "display_data",
          "data": {
            "image/png": "[encoded data removed]",
            "text/plain": [
              "<Figure size 432x288 with 1 Axes>"
            ]
          },
          "metadata": {
            "tags": [],
            "needs_background": "light"
          }
        }
      ]
    },
    {
      "cell_type": "code",
      "metadata": {
        "id": "nvhSwFNzYAHe"
      },
      "source": [
        ""
      ],
      "execution_count": null,
      "outputs": []
    },
    {
      "cell_type": "code",
      "metadata": {
        "id": "nWu42t2rX_61"
      },
      "source": [
        ""
      ],
      "execution_count": null,
      "outputs": []
    },
    {
      "cell_type": "code",
      "metadata": {
        "id": "cFicYMD1FnrW"
      },
      "source": [
        "from sklearn.cluster import KMeans\r\n",
        "kmeans = KMeans(n_clusters=3)\r\n",
        "kmeans.fit(df_points)\r\n",
        "y_kmeans = kmeans.predict(df_points)\r\n",
        "df_points['sklearn_cluster'] = y_kmeans\r\n",
        "sklearn_centers = kmeans.cluster_centers_"
      ],
      "execution_count": 175,
      "outputs": []
    },
    {
      "cell_type": "code",
      "metadata": {
        "colab": {
          "base_uri": "https://localhost:8080/",
          "height": 399
        },
        "id": "UfdXGTWyGXNp",
        "outputId": "0a80b1f8-c839-44cb-c918-5fd6d8c16d2d"
      },
      "source": [
        "sns.lmplot(data=df_points, x='f1', y='f2', fit_reg=False, hue = 'sklearn_cluster', palette = ['#eb6c6a', '#6aeb6c', '#6c6aeb']).set(title='Wizualizacja grup')\r\n",
        "plt.scatter(sklearn_centers[:, 0], sklearn_centers[:, 1], c='black', s=100, alpha=0.5)\r\n",
        "plt.show()"
      ],
      "execution_count": 176,
      "outputs": [
        {
          "output_type": "display_data",
          "data": {
            "image/png": "[encoded data removed]",
            "text/plain": [
              "<Figure size 443.625x360 with 1 Axes>"
            ]
          },
          "metadata": {
            "tags": [],
            "needs_background": "light"
          }
        }
      ]
    },
    {
      "cell_type": "code",
      "metadata": {
        "id": "BVfKtuTCGXCC"
      },
      "source": [
        ""
      ],
      "execution_count": null,
      "outputs": []
    }
  ]
}