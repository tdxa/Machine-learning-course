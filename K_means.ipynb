{
  "nbformat": 4,
  "nbformat_minor": 0,
  "metadata": {
    "kernelspec": {
      "display_name": "Python 3",
      "language": "python",
      "name": "python3"
    },
    "language_info": {
      "codemirror_mode": {
        "name": "ipython",
        "version": 3
      },
      "file_extension": ".py",
      "mimetype": "text/x-python",
      "name": "python",
      "nbconvert_exporter": "python",
      "pygments_lexer": "ipython3",
      "version": "3.8.3"
    },
    "colab": {
      "name": "K-means.ipynb",
      "provenance": [],
      "collapsed_sections": []
    }
  },
  "cells": [
    {
      "cell_type": "markdown",
      "metadata": {
        "id": "tQW7a2Uvis_f"
      },
      "source": [
        "# Zadanie\n",
        "Zadanie polega na własnoręcznym zaimplementowaniu algorytmu k-means. Algorytm powinien być zaimplementowany w oparciu o bibliotekę `Numpy`. Podczas implementacji nie wolno korzystać z bibliotek typu `sklearn`, które mają ten algorytm wbudowany. Dopuszczalne jest natomiast wykorzystywanie tego rodzaju bibliotek w celach porównawczych, do sprawdzenia czy nasz algorytm działa poprawnie. Ocenie podlega rozwiązanie i odpowiedź.\n",
        "\n",
        "\n",
        "- Zaimplementuj `K-means` w przestrzeni dwuwymiarowej (każdy punkt ma dwie współrzędne). - *(dostateczny)*\n",
        "- Zmniejsz problem związany z 'utknięciem' w lokalnym optimum poprzez wywołanie algorytmu 100 razy i wybranie rozwiązania z najmniejszą funkcją kosztu - *(dostateczny plus)*\n",
        "- Zwizualizuj wyniki na wykresie - *(dobry)*\n",
        "- Rozszerz swoją implementację o `K-means++` lub zmień ją tak by działała w n-wymiarowej przestrzeni - *(bardzo dobry)*"
      ]
    },
    {
      "cell_type": "code",
      "metadata": {
        "id": "QpInOsBcis_n"
      },
      "source": [
        "%matplotlib inline\n",
        "import matplotlib.pyplot as plt\n",
        "import numpy as np"
      ],
      "execution_count": 2,
      "outputs": []
    },
    {
      "cell_type": "markdown",
      "metadata": {
        "id": "hRE2-AJCis_o"
      },
      "source": [
        "Przykładowy kod do generowania punktów"
      ]
    },
    {
      "cell_type": "code",
      "metadata": {
        "id": "vTuIPjMQis_p"
      },
      "source": [
        "points = np.vstack(((np.random.randn(150, 2) * 0.75 + np.array([1, 0])),\n",
        "                  (np.random.randn(50, 2) * 0.25 + np.array([-0.5, 0.5])),\n",
        "                  (np.random.randn(50, 2) * 0.5 + np.array([-0.5, -0.5]))))"
      ],
      "execution_count": 3,
      "outputs": []
    },
    {
      "cell_type": "markdown",
      "metadata": {
        "id": "9GaEd1Cwis_p"
      },
      "source": [
        "Przykładowy kod do wyświetlenia wygenerowanych punktów"
      ]
    },
    {
      "cell_type": "code",
      "metadata": {
        "id": "5dqeSDKZis_q",
        "colab": {
          "base_uri": "https://localhost:8080/",
          "height": 265
        },
        "outputId": "8996d961-8359-486a-ac6e-9103f5835da3"
      },
      "source": [
        "plt.scatter(points[:, 0], points[:, 1])\n",
        "ax = plt.gca()"
      ],
      "execution_count": 4,
      "outputs": [
        {
          "output_type": "display_data",
          "data": {
            "image/png": "[encoded data removed]",
            "text/plain": [
              "<Figure size 432x288 with 1 Axes>"
            ]
          },
          "metadata": {
            "tags": [],
            "needs_background": "light"
          }
        }
      ]
    },
    {
      "cell_type": "code",
      "metadata": {
        "id": "c3C-6Di0is_r"
      },
      "source": [
        ""
      ],
      "execution_count": null,
      "outputs": []
    }
  ]
}