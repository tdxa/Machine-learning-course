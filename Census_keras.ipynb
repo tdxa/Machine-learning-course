{
  "nbformat": 4,
  "nbformat_minor": 0,
  "metadata": {
    "kernelspec": {
      "display_name": "Python 3",
      "language": "python",
      "name": "python3"
    },
    "language_info": {
      "codemirror_mode": {
        "name": "ipython",
        "version": 3
      },
      "file_extension": ".py",
      "mimetype": "text/x-python",
      "name": "python",
      "nbconvert_exporter": "python",
      "pygments_lexer": "ipython3",
      "version": "3.7.6"
    },
    "colab": {
      "name": "Domańska census_keras_empty.ipynb",
      "provenance": [],
      "collapsed_sections": [
        "7oPgpzwelm7N"
      ]
    },
    "accelerator": "TPU"
  },
  "cells": [
    {
      "cell_type": "markdown",
      "metadata": {
        "id": "ydOCJLfLlm7M"
      },
      "source": [
        "# Census Income Example\n",
        "This is a Keras example of classification problem. To simplify the data preparation part I used the Census problem from the Sci-Kit Learn class.\n",
        "\n",
        "The dataset comes from http://archive.ics.uci.edu/. \n",
        "\n",
        "Data extraction was done by Barry Becker from the 1994 Census database. A set of reasonably clean records was extracted using the following conditions: ((AAGE>16) && (AGI>100) && (AFNLWGT>1)&& (HRSWK>0)). The data was also preprocessed for the purpose of this example.\n",
        "\n",
        "Prediction task is to determine whether a person makes over 50K a year.\n",
        "\n",
        "\n",
        "### List of attributes:\n",
        "\n",
        "##### Features\n",
        "- age: continuous. \n",
        "- workclass: Private, Self-emp-not-inc, Self-emp-inc, Federal-gov, Local-gov, State-gov, Without-pay, Never-worked. \n",
        "- education: Bachelors, Some-college, 11th, HS-grad, Prof-school, Assoc-acdm, Assoc-voc, 9th, 7th-8th, 12th, Masters, 1st-4th, - 10th, Doctorate, 5th-6th, Preschool. \n",
        "- education-num: continuous. \n",
        "- marital-status: Married-civ-spouse, Divorced, Never-married, Separated, Widowed, Married-spouse-absent, Married-AF-spouse. \n",
        "- occupation: Tech-support, Craft-repair, Other-service, Sales, Exec-managerial, Prof-specialty, Handlers-cleaners, Machine-op-inspct, Adm-clerical, Farming-fishing, Transport-moving, Priv-house-serv, Protective-serv, Armed-Forces. \n",
        "- relationship: Wife, Own-child, Husband, Not-in-family, Other-relative, Unmarried. \n",
        "- race: White, Asian-Pac-Islander, Amer-Indian-Eskimo, Other, Black. \n",
        "- sex: Female, Male. \n",
        "- hours-per-week: continuous. \n",
        "- native-country: United-States, Cambodia, England, Puerto-Rico, Canada, Germany, Outlying-US(Guam-USVI-etc), India, Japan, Greece, South, China, Cuba, Iran, Honduras, Philippines, Italy, Poland, Jamaica, Vietnam, Mexico, Portugal, Ireland, France, Dominican-Republic, Laos, Ecuador, Taiwan, Haiti, Columbia, Hungary, Guatemala, Nicaragua, Scotland, Thailand, Yugoslavia, El-Salvador, Trinadad&Tobago, Peru, Hong, Holand-Netherlands.\n",
        "\n",
        "\n",
        "\n",
        "##### Labels\n",
        "- income - >50K, <=50K. "
      ]
    },
    {
      "cell_type": "markdown",
      "metadata": {
        "id": "hlVbuQ1Xlm7N"
      },
      "source": [
        "# Install tensorflow\n",
        "If necessary uncomment one of the lines below"
      ]
    },
    {
      "cell_type": "code",
      "metadata": {
        "id": "jLpTBvq7lm7N"
      },
      "source": [
        "# For tensorflow with CPU support only\n",
        "#!pip install tensorflow\n",
        "# For GPU version of tensorflow\n",
        "#!pip install tensorflow-gpu"
      ],
      "execution_count": null,
      "outputs": []
    },
    {
      "cell_type": "markdown",
      "metadata": {
        "id": "YloiEeIYlm7N"
      },
      "source": [
        "# Imports"
      ]
    },
    {
      "cell_type": "code",
      "metadata": {
        "id": "6qmouA72lm7N"
      },
      "source": [
        "import pandas as pd\n",
        "import numpy as np\n",
        "import tensorflow as tf\n",
        "\n",
        "import matplotlib.pyplot as plt\n",
        "%matplotlib inline"
      ],
      "execution_count": null,
      "outputs": []
    },
    {
      "cell_type": "markdown",
      "metadata": {
        "id": "heS8ill6lm7N"
      },
      "source": [
        "### Load dataset"
      ]
    },
    {
      "cell_type": "code",
      "metadata": {
        "id": "hru4mnWzlm7N"
      },
      "source": [
        "df = pd.read_csv(\"https://github.com/PrzemekSekula/DeepLearningClasses1/raw/master/data/census.csv\")"
      ],
      "execution_count": null,
      "outputs": []
    },
    {
      "cell_type": "markdown",
      "metadata": {
        "id": "etHgXG1Slm7N"
      },
      "source": [
        "# Data preparation\n",
        "### Selecting columns\n",
        "Personaly I decided to delete the following columns:\n",
        "- education - we have education-num, this is enough\n",
        "- marital status - too many classes\n",
        "- relationship - I am not sure if it is useful, and there are many classes\n",
        "- race - I am not sure if it is useful\n",
        "- native-country - too many classes\n",
        "\n",
        "**I deleted many columns just to make the task easier to read. Students are encouraged to experiment with the columns and check if they can improve the results.**\n"
      ]
    },
    {
      "cell_type": "code",
      "metadata": {
        "id": "kJHM0dLQlm7N",
        "colab": {
          "base_uri": "https://localhost:8080/",
          "height": 204
        },
        "outputId": "daae2b26-c5f3-4980-8f35-f667face3776"
      },
      "source": [
        "df = df[['age', 'workclass', 'education-num', 'occupation', \n",
        "         'sex', 'hours-per-week', 'income']]\n",
        "\n",
        "df.head()"
      ],
      "execution_count": null,
      "outputs": [
        {
          "output_type": "execute_result",
          "data": {
            "text/html": [
              "<div>\n",
              "<style scoped>\n",
              "    .dataframe tbody tr th:only-of-type {\n",
              "        vertical-align: middle;\n",
              "    }\n",
              "\n",
              "    .dataframe tbody tr th {\n",
              "        vertical-align: top;\n",
              "    }\n",
              "\n",
              "    .dataframe thead th {\n",
              "        text-align: right;\n",
              "    }\n",
              "</style>\n",
              "<table border=\"1\" class=\"dataframe\">\n",
              "  <thead>\n",
              "    <tr style=\"text-align: right;\">\n",
              "      <th></th>\n",
              "      <th>age</th>\n",
              "      <th>workclass</th>\n",
              "      <th>education-num</th>\n",
              "      <th>occupation</th>\n",
              "      <th>sex</th>\n",
              "      <th>hours-per-week</th>\n",
              "      <th>income</th>\n",
              "    </tr>\n",
              "  </thead>\n",
              "  <tbody>\n",
              "    <tr>\n",
              "      <th>0</th>\n",
              "      <td>39</td>\n",
              "      <td>State-gov</td>\n",
              "      <td>13</td>\n",
              "      <td>Adm-clerical</td>\n",
              "      <td>Male</td>\n",
              "      <td>40</td>\n",
              "      <td>&lt;=50K</td>\n",
              "    </tr>\n",
              "    <tr>\n",
              "      <th>1</th>\n",
              "      <td>50</td>\n",
              "      <td>Self-emp-not-inc</td>\n",
              "      <td>13</td>\n",
              "      <td>Exec-managerial</td>\n",
              "      <td>Male</td>\n",
              "      <td>13</td>\n",
              "      <td>&lt;=50K</td>\n",
              "    </tr>\n",
              "    <tr>\n",
              "      <th>2</th>\n",
              "      <td>38</td>\n",
              "      <td>Private</td>\n",
              "      <td>9</td>\n",
              "      <td>Handlers-cleaners</td>\n",
              "      <td>Male</td>\n",
              "      <td>40</td>\n",
              "      <td>&lt;=50K</td>\n",
              "    </tr>\n",
              "    <tr>\n",
              "      <th>3</th>\n",
              "      <td>53</td>\n",
              "      <td>Private</td>\n",
              "      <td>7</td>\n",
              "      <td>Handlers-cleaners</td>\n",
              "      <td>Male</td>\n",
              "      <td>40</td>\n",
              "      <td>&lt;=50K</td>\n",
              "    </tr>\n",
              "    <tr>\n",
              "      <th>4</th>\n",
              "      <td>28</td>\n",
              "      <td>Private</td>\n",
              "      <td>13</td>\n",
              "      <td>Prof-specialty</td>\n",
              "      <td>Female</td>\n",
              "      <td>40</td>\n",
              "      <td>&lt;=50K</td>\n",
              "    </tr>\n",
              "  </tbody>\n",
              "</table>\n",
              "</div>"
            ],
            "text/plain": [
              "   age         workclass  education-num  ...     sex hours-per-week  income\n",
              "0   39         State-gov             13  ...    Male             40   <=50K\n",
              "1   50  Self-emp-not-inc             13  ...    Male             13   <=50K\n",
              "2   38           Private              9  ...    Male             40   <=50K\n",
              "3   53           Private              7  ...    Male             40   <=50K\n",
              "4   28           Private             13  ...  Female             40   <=50K\n",
              "\n",
              "[5 rows x 7 columns]"
            ]
          },
          "metadata": {
            "tags": []
          },
          "execution_count": 3
        }
      ]
    },
    {
      "cell_type": "markdown",
      "metadata": {
        "id": "qJxuePCylm7N"
      },
      "source": [
        "### Data preprocessing"
      ]
    },
    {
      "cell_type": "markdown",
      "metadata": {
        "id": "tL2j3t3Wlm7N"
      },
      "source": [
        "#### First step - change the labels into binary values."
      ]
    },
    {
      "cell_type": "code",
      "metadata": {
        "id": "XgiT9nzVlm7N",
        "colab": {
          "base_uri": "https://localhost:8080/",
          "height": 359
        },
        "outputId": "a4e438c4-38d1-4d5b-be93-a37cb0cd84a7"
      },
      "source": [
        "df = pd.get_dummies(df, columns=['income'], drop_first=True)\n",
        "df.head(10)"
      ],
      "execution_count": null,
      "outputs": [
        {
          "output_type": "execute_result",
          "data": {
            "text/html": [
              "<div>\n",
              "<style scoped>\n",
              "    .dataframe tbody tr th:only-of-type {\n",
              "        vertical-align: middle;\n",
              "    }\n",
              "\n",
              "    .dataframe tbody tr th {\n",
              "        vertical-align: top;\n",
              "    }\n",
              "\n",
              "    .dataframe thead th {\n",
              "        text-align: right;\n",
              "    }\n",
              "</style>\n",
              "<table border=\"1\" class=\"dataframe\">\n",
              "  <thead>\n",
              "    <tr style=\"text-align: right;\">\n",
              "      <th></th>\n",
              "      <th>age</th>\n",
              "      <th>workclass</th>\n",
              "      <th>education-num</th>\n",
              "      <th>occupation</th>\n",
              "      <th>sex</th>\n",
              "      <th>hours-per-week</th>\n",
              "      <th>income_&gt;50K</th>\n",
              "    </tr>\n",
              "  </thead>\n",
              "  <tbody>\n",
              "    <tr>\n",
              "      <th>0</th>\n",
              "      <td>39</td>\n",
              "      <td>State-gov</td>\n",
              "      <td>13</td>\n",
              "      <td>Adm-clerical</td>\n",
              "      <td>Male</td>\n",
              "      <td>40</td>\n",
              "      <td>0</td>\n",
              "    </tr>\n",
              "    <tr>\n",
              "      <th>1</th>\n",
              "      <td>50</td>\n",
              "      <td>Self-emp-not-inc</td>\n",
              "      <td>13</td>\n",
              "      <td>Exec-managerial</td>\n",
              "      <td>Male</td>\n",
              "      <td>13</td>\n",
              "      <td>0</td>\n",
              "    </tr>\n",
              "    <tr>\n",
              "      <th>2</th>\n",
              "      <td>38</td>\n",
              "      <td>Private</td>\n",
              "      <td>9</td>\n",
              "      <td>Handlers-cleaners</td>\n",
              "      <td>Male</td>\n",
              "      <td>40</td>\n",
              "      <td>0</td>\n",
              "    </tr>\n",
              "    <tr>\n",
              "      <th>3</th>\n",
              "      <td>53</td>\n",
              "      <td>Private</td>\n",
              "      <td>7</td>\n",
              "      <td>Handlers-cleaners</td>\n",
              "      <td>Male</td>\n",
              "      <td>40</td>\n",
              "      <td>0</td>\n",
              "    </tr>\n",
              "    <tr>\n",
              "      <th>4</th>\n",
              "      <td>28</td>\n",
              "      <td>Private</td>\n",
              "      <td>13</td>\n",
              "      <td>Prof-specialty</td>\n",
              "      <td>Female</td>\n",
              "      <td>40</td>\n",
              "      <td>0</td>\n",
              "    </tr>\n",
              "    <tr>\n",
              "      <th>5</th>\n",
              "      <td>37</td>\n",
              "      <td>Private</td>\n",
              "      <td>14</td>\n",
              "      <td>Exec-managerial</td>\n",
              "      <td>Female</td>\n",
              "      <td>40</td>\n",
              "      <td>0</td>\n",
              "    </tr>\n",
              "    <tr>\n",
              "      <th>6</th>\n",
              "      <td>49</td>\n",
              "      <td>Private</td>\n",
              "      <td>5</td>\n",
              "      <td>Other-service</td>\n",
              "      <td>Female</td>\n",
              "      <td>16</td>\n",
              "      <td>0</td>\n",
              "    </tr>\n",
              "    <tr>\n",
              "      <th>7</th>\n",
              "      <td>52</td>\n",
              "      <td>Self-emp-not-inc</td>\n",
              "      <td>9</td>\n",
              "      <td>Exec-managerial</td>\n",
              "      <td>Male</td>\n",
              "      <td>45</td>\n",
              "      <td>1</td>\n",
              "    </tr>\n",
              "    <tr>\n",
              "      <th>8</th>\n",
              "      <td>31</td>\n",
              "      <td>Private</td>\n",
              "      <td>14</td>\n",
              "      <td>Prof-specialty</td>\n",
              "      <td>Female</td>\n",
              "      <td>50</td>\n",
              "      <td>1</td>\n",
              "    </tr>\n",
              "    <tr>\n",
              "      <th>9</th>\n",
              "      <td>42</td>\n",
              "      <td>Private</td>\n",
              "      <td>13</td>\n",
              "      <td>Exec-managerial</td>\n",
              "      <td>Male</td>\n",
              "      <td>40</td>\n",
              "      <td>1</td>\n",
              "    </tr>\n",
              "  </tbody>\n",
              "</table>\n",
              "</div>"
            ],
            "text/plain": [
              "   age         workclass  education-num  ...     sex hours-per-week  income_>50K\n",
              "0   39         State-gov             13  ...    Male             40            0\n",
              "1   50  Self-emp-not-inc             13  ...    Male             13            0\n",
              "2   38           Private              9  ...    Male             40            0\n",
              "3   53           Private              7  ...    Male             40            0\n",
              "4   28           Private             13  ...  Female             40            0\n",
              "5   37           Private             14  ...  Female             40            0\n",
              "6   49           Private              5  ...  Female             16            0\n",
              "7   52  Self-emp-not-inc              9  ...    Male             45            1\n",
              "8   31           Private             14  ...  Female             50            1\n",
              "9   42           Private             13  ...    Male             40            1\n",
              "\n",
              "[10 rows x 7 columns]"
            ]
          },
          "metadata": {
            "tags": []
          },
          "execution_count": 4
        }
      ]
    },
    {
      "cell_type": "markdown",
      "metadata": {
        "id": "p6KUWIvGlm7N"
      },
      "source": [
        "#### Second step - change the `sex` column into binary values"
      ]
    },
    {
      "cell_type": "code",
      "metadata": {
        "id": "K5ez0IXVlm7N",
        "colab": {
          "base_uri": "https://localhost:8080/",
          "height": 359
        },
        "outputId": "9ac0f980-2a4b-4498-f94a-56926712fbd0"
      },
      "source": [
        "df = pd.get_dummies(df, columns=['sex'], drop_first=True)\n",
        "df.head(10)"
      ],
      "execution_count": null,
      "outputs": [
        {
          "output_type": "execute_result",
          "data": {
            "text/html": [
              "<div>\n",
              "<style scoped>\n",
              "    .dataframe tbody tr th:only-of-type {\n",
              "        vertical-align: middle;\n",
              "    }\n",
              "\n",
              "    .dataframe tbody tr th {\n",
              "        vertical-align: top;\n",
              "    }\n",
              "\n",
              "    .dataframe thead th {\n",
              "        text-align: right;\n",
              "    }\n",
              "</style>\n",
              "<table border=\"1\" class=\"dataframe\">\n",
              "  <thead>\n",
              "    <tr style=\"text-align: right;\">\n",
              "      <th></th>\n",
              "      <th>age</th>\n",
              "      <th>workclass</th>\n",
              "      <th>education-num</th>\n",
              "      <th>occupation</th>\n",
              "      <th>hours-per-week</th>\n",
              "      <th>income_&gt;50K</th>\n",
              "      <th>sex_Male</th>\n",
              "    </tr>\n",
              "  </thead>\n",
              "  <tbody>\n",
              "    <tr>\n",
              "      <th>0</th>\n",
              "      <td>39</td>\n",
              "      <td>State-gov</td>\n",
              "      <td>13</td>\n",
              "      <td>Adm-clerical</td>\n",
              "      <td>40</td>\n",
              "      <td>0</td>\n",
              "      <td>1</td>\n",
              "    </tr>\n",
              "    <tr>\n",
              "      <th>1</th>\n",
              "      <td>50</td>\n",
              "      <td>Self-emp-not-inc</td>\n",
              "      <td>13</td>\n",
              "      <td>Exec-managerial</td>\n",
              "      <td>13</td>\n",
              "      <td>0</td>\n",
              "      <td>1</td>\n",
              "    </tr>\n",
              "    <tr>\n",
              "      <th>2</th>\n",
              "      <td>38</td>\n",
              "      <td>Private</td>\n",
              "      <td>9</td>\n",
              "      <td>Handlers-cleaners</td>\n",
              "      <td>40</td>\n",
              "      <td>0</td>\n",
              "      <td>1</td>\n",
              "    </tr>\n",
              "    <tr>\n",
              "      <th>3</th>\n",
              "      <td>53</td>\n",
              "      <td>Private</td>\n",
              "      <td>7</td>\n",
              "      <td>Handlers-cleaners</td>\n",
              "      <td>40</td>\n",
              "      <td>0</td>\n",
              "      <td>1</td>\n",
              "    </tr>\n",
              "    <tr>\n",
              "      <th>4</th>\n",
              "      <td>28</td>\n",
              "      <td>Private</td>\n",
              "      <td>13</td>\n",
              "      <td>Prof-specialty</td>\n",
              "      <td>40</td>\n",
              "      <td>0</td>\n",
              "      <td>0</td>\n",
              "    </tr>\n",
              "    <tr>\n",
              "      <th>5</th>\n",
              "      <td>37</td>\n",
              "      <td>Private</td>\n",
              "      <td>14</td>\n",
              "      <td>Exec-managerial</td>\n",
              "      <td>40</td>\n",
              "      <td>0</td>\n",
              "      <td>0</td>\n",
              "    </tr>\n",
              "    <tr>\n",
              "      <th>6</th>\n",
              "      <td>49</td>\n",
              "      <td>Private</td>\n",
              "      <td>5</td>\n",
              "      <td>Other-service</td>\n",
              "      <td>16</td>\n",
              "      <td>0</td>\n",
              "      <td>0</td>\n",
              "    </tr>\n",
              "    <tr>\n",
              "      <th>7</th>\n",
              "      <td>52</td>\n",
              "      <td>Self-emp-not-inc</td>\n",
              "      <td>9</td>\n",
              "      <td>Exec-managerial</td>\n",
              "      <td>45</td>\n",
              "      <td>1</td>\n",
              "      <td>1</td>\n",
              "    </tr>\n",
              "    <tr>\n",
              "      <th>8</th>\n",
              "      <td>31</td>\n",
              "      <td>Private</td>\n",
              "      <td>14</td>\n",
              "      <td>Prof-specialty</td>\n",
              "      <td>50</td>\n",
              "      <td>1</td>\n",
              "      <td>0</td>\n",
              "    </tr>\n",
              "    <tr>\n",
              "      <th>9</th>\n",
              "      <td>42</td>\n",
              "      <td>Private</td>\n",
              "      <td>13</td>\n",
              "      <td>Exec-managerial</td>\n",
              "      <td>40</td>\n",
              "      <td>1</td>\n",
              "      <td>1</td>\n",
              "    </tr>\n",
              "  </tbody>\n",
              "</table>\n",
              "</div>"
            ],
            "text/plain": [
              "   age         workclass  education-num  ... hours-per-week  income_>50K  sex_Male\n",
              "0   39         State-gov             13  ...             40            0         1\n",
              "1   50  Self-emp-not-inc             13  ...             13            0         1\n",
              "2   38           Private              9  ...             40            0         1\n",
              "3   53           Private              7  ...             40            0         1\n",
              "4   28           Private             13  ...             40            0         0\n",
              "5   37           Private             14  ...             40            0         0\n",
              "6   49           Private              5  ...             16            0         0\n",
              "7   52  Self-emp-not-inc              9  ...             45            1         1\n",
              "8   31           Private             14  ...             50            1         0\n",
              "9   42           Private             13  ...             40            1         1\n",
              "\n",
              "[10 rows x 7 columns]"
            ]
          },
          "metadata": {
            "tags": []
          },
          "execution_count": 5
        }
      ]
    },
    {
      "cell_type": "markdown",
      "metadata": {
        "id": "316xWhfElm7N"
      },
      "source": [
        "#### Third step - replace rare classes"
      ]
    },
    {
      "cell_type": "markdown",
      "metadata": {
        "id": "V1LzZMJJlm7N"
      },
      "source": [
        "Let's check if we have any rare classes"
      ]
    },
    {
      "cell_type": "code",
      "metadata": {
        "colab": {
          "base_uri": "https://localhost:8080/"
        },
        "id": "sUsLZV4SsVEc",
        "outputId": "007ef346-5e76-4d9c-d16c-aa195bdae09b"
      },
      "source": [
        "print(df.value_counts('workclass'))"
      ],
      "execution_count": null,
      "outputs": [
        {
          "output_type": "stream",
          "text": [
            "workclass\n",
            "Private             22696\n",
            "Self-emp-not-inc     2541\n",
            "Local-gov            2093\n",
            "?                    1836\n",
            "State-gov            1298\n",
            "Self-emp-inc         1116\n",
            "Federal-gov           960\n",
            "Without-pay            14\n",
            "Never-worked            7\n",
            "dtype: int64\n"
          ],
          "name": "stdout"
        }
      ]
    },
    {
      "cell_type": "code",
      "metadata": {
        "id": "mxK70tyjlm7N",
        "colab": {
          "base_uri": "https://localhost:8080/"
        },
        "outputId": "5a580f66-e4e6-401c-b82d-8304579156a4"
      },
      "source": [
        "df.workclass = df.workclass.replace({'Without-pay':'?'})\n",
        "df.workclass = df.workclass.replace({'Never-worked':'?'})\n",
        "print(df.value_counts('workclass'))"
      ],
      "execution_count": null,
      "outputs": [
        {
          "output_type": "stream",
          "text": [
            "workclass\n",
            "Private             22696\n",
            "Self-emp-not-inc     2541\n",
            "Local-gov            2093\n",
            "?                    1857\n",
            "State-gov            1298\n",
            "Self-emp-inc         1116\n",
            "Federal-gov           960\n",
            "dtype: int64\n"
          ],
          "name": "stdout"
        }
      ]
    },
    {
      "cell_type": "code",
      "metadata": {
        "colab": {
          "base_uri": "https://localhost:8080/"
        },
        "id": "0YMTzk78sZPs",
        "outputId": "5ba09568-58ea-49cf-a0c4-38081446f022"
      },
      "source": [
        "print(df.value_counts('occupation'))"
      ],
      "execution_count": null,
      "outputs": [
        {
          "output_type": "stream",
          "text": [
            "occupation\n",
            "Prof-specialty       4140\n",
            "Craft-repair         4099\n",
            "Exec-managerial      4066\n",
            "Adm-clerical         3770\n",
            "Sales                3650\n",
            "Other-service        3295\n",
            "Machine-op-inspct    2002\n",
            "?                    1843\n",
            "Transport-moving     1597\n",
            "Handlers-cleaners    1370\n",
            "Farming-fishing       994\n",
            "Tech-support          928\n",
            "Protective-serv       649\n",
            "Priv-house-serv       149\n",
            "Armed-Forces            9\n",
            "dtype: int64\n"
          ],
          "name": "stdout"
        }
      ]
    },
    {
      "cell_type": "code",
      "metadata": {
        "id": "39PTft2wlm7N",
        "colab": {
          "base_uri": "https://localhost:8080/"
        },
        "outputId": "cb4896a3-3c13-4075-abdb-d9bae8525e80"
      },
      "source": [
        "# ??? zmienić jeszcze\n",
        "\n",
        "#Add a rare occupations to ?\n",
        "df.occupation = df.occupation.replace({'Protective-serv':'?'})\n",
        "df.occupation = df.occupation.replace({'Priv-house-serv':'?'})\n",
        "df.occupation = df.occupation.replace({'Armed-Forces':'?'})\n",
        "\n",
        "print(df.value_counts('occupation'))"
      ],
      "execution_count": null,
      "outputs": [
        {
          "output_type": "stream",
          "text": [
            "occupation\n",
            "Prof-specialty       4140\n",
            "Craft-repair         4099\n",
            "Exec-managerial      4066\n",
            "Adm-clerical         3770\n",
            "Sales                3650\n",
            "Other-service        3295\n",
            "?                    2650\n",
            "Machine-op-inspct    2002\n",
            "Transport-moving     1597\n",
            "Handlers-cleaners    1370\n",
            "Farming-fishing       994\n",
            "Tech-support          928\n",
            "dtype: int64\n"
          ],
          "name": "stdout"
        }
      ]
    },
    {
      "cell_type": "markdown",
      "metadata": {
        "id": "F6r8gHjHlm7N"
      },
      "source": [
        "Then we should replace rare classes for one-hot encoded columns"
      ]
    },
    {
      "cell_type": "code",
      "metadata": {
        "id": "TjHTq_bUlm7N",
        "colab": {
          "base_uri": "https://localhost:8080/",
          "height": 289
        },
        "outputId": "78e36917-66df-4f74-a3e3-fb9fa8e61808"
      },
      "source": [
        "df = pd.get_dummies(df, columns=['workclass'])\n",
        "df.head()"
      ],
      "execution_count": null,
      "outputs": [
        {
          "output_type": "execute_result",
          "data": {
            "text/html": [
              "<div>\n",
              "<style scoped>\n",
              "    .dataframe tbody tr th:only-of-type {\n",
              "        vertical-align: middle;\n",
              "    }\n",
              "\n",
              "    .dataframe tbody tr th {\n",
              "        vertical-align: top;\n",
              "    }\n",
              "\n",
              "    .dataframe thead th {\n",
              "        text-align: right;\n",
              "    }\n",
              "</style>\n",
              "<table border=\"1\" class=\"dataframe\">\n",
              "  <thead>\n",
              "    <tr style=\"text-align: right;\">\n",
              "      <th></th>\n",
              "      <th>age</th>\n",
              "      <th>education-num</th>\n",
              "      <th>occupation</th>\n",
              "      <th>hours-per-week</th>\n",
              "      <th>income_&gt;50K</th>\n",
              "      <th>sex_Male</th>\n",
              "      <th>workclass_?</th>\n",
              "      <th>workclass_Federal-gov</th>\n",
              "      <th>workclass_Local-gov</th>\n",
              "      <th>workclass_Private</th>\n",
              "      <th>workclass_Self-emp-inc</th>\n",
              "      <th>workclass_Self-emp-not-inc</th>\n",
              "      <th>workclass_State-gov</th>\n",
              "    </tr>\n",
              "  </thead>\n",
              "  <tbody>\n",
              "    <tr>\n",
              "      <th>0</th>\n",
              "      <td>39</td>\n",
              "      <td>13</td>\n",
              "      <td>Adm-clerical</td>\n",
              "      <td>40</td>\n",
              "      <td>0</td>\n",
              "      <td>1</td>\n",
              "      <td>0</td>\n",
              "      <td>0</td>\n",
              "      <td>0</td>\n",
              "      <td>0</td>\n",
              "      <td>0</td>\n",
              "      <td>0</td>\n",
              "      <td>1</td>\n",
              "    </tr>\n",
              "    <tr>\n",
              "      <th>1</th>\n",
              "      <td>50</td>\n",
              "      <td>13</td>\n",
              "      <td>Exec-managerial</td>\n",
              "      <td>13</td>\n",
              "      <td>0</td>\n",
              "      <td>1</td>\n",
              "      <td>0</td>\n",
              "      <td>0</td>\n",
              "      <td>0</td>\n",
              "      <td>0</td>\n",
              "      <td>0</td>\n",
              "      <td>1</td>\n",
              "      <td>0</td>\n",
              "    </tr>\n",
              "    <tr>\n",
              "      <th>2</th>\n",
              "      <td>38</td>\n",
              "      <td>9</td>\n",
              "      <td>Handlers-cleaners</td>\n",
              "      <td>40</td>\n",
              "      <td>0</td>\n",
              "      <td>1</td>\n",
              "      <td>0</td>\n",
              "      <td>0</td>\n",
              "      <td>0</td>\n",
              "      <td>1</td>\n",
              "      <td>0</td>\n",
              "      <td>0</td>\n",
              "      <td>0</td>\n",
              "    </tr>\n",
              "    <tr>\n",
              "      <th>3</th>\n",
              "      <td>53</td>\n",
              "      <td>7</td>\n",
              "      <td>Handlers-cleaners</td>\n",
              "      <td>40</td>\n",
              "      <td>0</td>\n",
              "      <td>1</td>\n",
              "      <td>0</td>\n",
              "      <td>0</td>\n",
              "      <td>0</td>\n",
              "      <td>1</td>\n",
              "      <td>0</td>\n",
              "      <td>0</td>\n",
              "      <td>0</td>\n",
              "    </tr>\n",
              "    <tr>\n",
              "      <th>4</th>\n",
              "      <td>28</td>\n",
              "      <td>13</td>\n",
              "      <td>Prof-specialty</td>\n",
              "      <td>40</td>\n",
              "      <td>0</td>\n",
              "      <td>0</td>\n",
              "      <td>0</td>\n",
              "      <td>0</td>\n",
              "      <td>0</td>\n",
              "      <td>1</td>\n",
              "      <td>0</td>\n",
              "      <td>0</td>\n",
              "      <td>0</td>\n",
              "    </tr>\n",
              "  </tbody>\n",
              "</table>\n",
              "</div>"
            ],
            "text/plain": [
              "   age  education-num  ... workclass_Self-emp-not-inc  workclass_State-gov\n",
              "0   39             13  ...                          0                    1\n",
              "1   50             13  ...                          1                    0\n",
              "2   38              9  ...                          0                    0\n",
              "3   53              7  ...                          0                    0\n",
              "4   28             13  ...                          0                    0\n",
              "\n",
              "[5 rows x 13 columns]"
            ]
          },
          "metadata": {
            "tags": []
          },
          "execution_count": 10
        }
      ]
    },
    {
      "cell_type": "code",
      "metadata": {
        "id": "3iSv2g0hlm7N",
        "colab": {
          "base_uri": "https://localhost:8080/",
          "height": 258
        },
        "outputId": "cbe7d9af-aabe-4916-8e1c-7803a7c4124c"
      },
      "source": [
        "df = pd.get_dummies(df, columns=['occupation'])\n",
        "df.head()"
      ],
      "execution_count": null,
      "outputs": [
        {
          "output_type": "execute_result",
          "data": {
            "text/html": [
              "<div>\n",
              "<style scoped>\n",
              "    .dataframe tbody tr th:only-of-type {\n",
              "        vertical-align: middle;\n",
              "    }\n",
              "\n",
              "    .dataframe tbody tr th {\n",
              "        vertical-align: top;\n",
              "    }\n",
              "\n",
              "    .dataframe thead th {\n",
              "        text-align: right;\n",
              "    }\n",
              "</style>\n",
              "<table border=\"1\" class=\"dataframe\">\n",
              "  <thead>\n",
              "    <tr style=\"text-align: right;\">\n",
              "      <th></th>\n",
              "      <th>age</th>\n",
              "      <th>education-num</th>\n",
              "      <th>hours-per-week</th>\n",
              "      <th>income_&gt;50K</th>\n",
              "      <th>sex_Male</th>\n",
              "      <th>workclass_?</th>\n",
              "      <th>workclass_Federal-gov</th>\n",
              "      <th>workclass_Local-gov</th>\n",
              "      <th>workclass_Private</th>\n",
              "      <th>workclass_Self-emp-inc</th>\n",
              "      <th>workclass_Self-emp-not-inc</th>\n",
              "      <th>workclass_State-gov</th>\n",
              "      <th>occupation_?</th>\n",
              "      <th>occupation_Adm-clerical</th>\n",
              "      <th>occupation_Craft-repair</th>\n",
              "      <th>occupation_Exec-managerial</th>\n",
              "      <th>occupation_Farming-fishing</th>\n",
              "      <th>occupation_Handlers-cleaners</th>\n",
              "      <th>occupation_Machine-op-inspct</th>\n",
              "      <th>occupation_Other-service</th>\n",
              "      <th>occupation_Prof-specialty</th>\n",
              "      <th>occupation_Sales</th>\n",
              "      <th>occupation_Tech-support</th>\n",
              "      <th>occupation_Transport-moving</th>\n",
              "    </tr>\n",
              "  </thead>\n",
              "  <tbody>\n",
              "    <tr>\n",
              "      <th>0</th>\n",
              "      <td>39</td>\n",
              "      <td>13</td>\n",
              "      <td>40</td>\n",
              "      <td>0</td>\n",
              "      <td>1</td>\n",
              "      <td>0</td>\n",
              "      <td>0</td>\n",
              "      <td>0</td>\n",
              "      <td>0</td>\n",
              "      <td>0</td>\n",
              "      <td>0</td>\n",
              "      <td>1</td>\n",
              "      <td>0</td>\n",
              "      <td>1</td>\n",
              "      <td>0</td>\n",
              "      <td>0</td>\n",
              "      <td>0</td>\n",
              "      <td>0</td>\n",
              "      <td>0</td>\n",
              "      <td>0</td>\n",
              "      <td>0</td>\n",
              "      <td>0</td>\n",
              "      <td>0</td>\n",
              "      <td>0</td>\n",
              "    </tr>\n",
              "    <tr>\n",
              "      <th>1</th>\n",
              "      <td>50</td>\n",
              "      <td>13</td>\n",
              "      <td>13</td>\n",
              "      <td>0</td>\n",
              "      <td>1</td>\n",
              "      <td>0</td>\n",
              "      <td>0</td>\n",
              "      <td>0</td>\n",
              "      <td>0</td>\n",
              "      <td>0</td>\n",
              "      <td>1</td>\n",
              "      <td>0</td>\n",
              "      <td>0</td>\n",
              "      <td>0</td>\n",
              "      <td>0</td>\n",
              "      <td>1</td>\n",
              "      <td>0</td>\n",
              "      <td>0</td>\n",
              "      <td>0</td>\n",
              "      <td>0</td>\n",
              "      <td>0</td>\n",
              "      <td>0</td>\n",
              "      <td>0</td>\n",
              "      <td>0</td>\n",
              "    </tr>\n",
              "    <tr>\n",
              "      <th>2</th>\n",
              "      <td>38</td>\n",
              "      <td>9</td>\n",
              "      <td>40</td>\n",
              "      <td>0</td>\n",
              "      <td>1</td>\n",
              "      <td>0</td>\n",
              "      <td>0</td>\n",
              "      <td>0</td>\n",
              "      <td>1</td>\n",
              "      <td>0</td>\n",
              "      <td>0</td>\n",
              "      <td>0</td>\n",
              "      <td>0</td>\n",
              "      <td>0</td>\n",
              "      <td>0</td>\n",
              "      <td>0</td>\n",
              "      <td>0</td>\n",
              "      <td>1</td>\n",
              "      <td>0</td>\n",
              "      <td>0</td>\n",
              "      <td>0</td>\n",
              "      <td>0</td>\n",
              "      <td>0</td>\n",
              "      <td>0</td>\n",
              "    </tr>\n",
              "    <tr>\n",
              "      <th>3</th>\n",
              "      <td>53</td>\n",
              "      <td>7</td>\n",
              "      <td>40</td>\n",
              "      <td>0</td>\n",
              "      <td>1</td>\n",
              "      <td>0</td>\n",
              "      <td>0</td>\n",
              "      <td>0</td>\n",
              "      <td>1</td>\n",
              "      <td>0</td>\n",
              "      <td>0</td>\n",
              "      <td>0</td>\n",
              "      <td>0</td>\n",
              "      <td>0</td>\n",
              "      <td>0</td>\n",
              "      <td>0</td>\n",
              "      <td>0</td>\n",
              "      <td>1</td>\n",
              "      <td>0</td>\n",
              "      <td>0</td>\n",
              "      <td>0</td>\n",
              "      <td>0</td>\n",
              "      <td>0</td>\n",
              "      <td>0</td>\n",
              "    </tr>\n",
              "    <tr>\n",
              "      <th>4</th>\n",
              "      <td>28</td>\n",
              "      <td>13</td>\n",
              "      <td>40</td>\n",
              "      <td>0</td>\n",
              "      <td>0</td>\n",
              "      <td>0</td>\n",
              "      <td>0</td>\n",
              "      <td>0</td>\n",
              "      <td>1</td>\n",
              "      <td>0</td>\n",
              "      <td>0</td>\n",
              "      <td>0</td>\n",
              "      <td>0</td>\n",
              "      <td>0</td>\n",
              "      <td>0</td>\n",
              "      <td>0</td>\n",
              "      <td>0</td>\n",
              "      <td>0</td>\n",
              "      <td>0</td>\n",
              "      <td>0</td>\n",
              "      <td>1</td>\n",
              "      <td>0</td>\n",
              "      <td>0</td>\n",
              "      <td>0</td>\n",
              "    </tr>\n",
              "  </tbody>\n",
              "</table>\n",
              "</div>"
            ],
            "text/plain": [
              "   age  education-num  ...  occupation_Tech-support  occupation_Transport-moving\n",
              "0   39             13  ...                        0                            0\n",
              "1   50             13  ...                        0                            0\n",
              "2   38              9  ...                        0                            0\n",
              "3   53              7  ...                        0                            0\n",
              "4   28             13  ...                        0                            0\n",
              "\n",
              "[5 rows x 24 columns]"
            ]
          },
          "metadata": {
            "tags": []
          },
          "execution_count": 11
        }
      ]
    },
    {
      "cell_type": "markdown",
      "metadata": {
        "id": "7oPgpzwelm7N"
      },
      "source": [
        "#### Final step - one hot encoding"
      ]
    },
    {
      "cell_type": "code",
      "metadata": {
        "id": "NbXX-RFKlm7N",
        "colab": {
          "base_uri": "https://localhost:8080/",
          "height": 462
        },
        "outputId": "535dcac3-c281-4a7a-aa06-8a29a4354adc"
      },
      "source": [
        "print(df.shape)\n",
        "print(df.columns)\n",
        "df.head()"
      ],
      "execution_count": null,
      "outputs": [
        {
          "output_type": "stream",
          "text": [
            "(32561, 24)\n",
            "Index(['age', 'education-num', 'hours-per-week', 'income_>50K', 'sex_Male',\n",
            "       'workclass_?', 'workclass_Federal-gov', 'workclass_Local-gov',\n",
            "       'workclass_Private', 'workclass_Self-emp-inc',\n",
            "       'workclass_Self-emp-not-inc', 'workclass_State-gov', 'occupation_?',\n",
            "       'occupation_Adm-clerical', 'occupation_Craft-repair',\n",
            "       'occupation_Exec-managerial', 'occupation_Farming-fishing',\n",
            "       'occupation_Handlers-cleaners', 'occupation_Machine-op-inspct',\n",
            "       'occupation_Other-service', 'occupation_Prof-specialty',\n",
            "       'occupation_Sales', 'occupation_Tech-support',\n",
            "       'occupation_Transport-moving'],\n",
            "      dtype='object')\n"
          ],
          "name": "stdout"
        },
        {
          "output_type": "execute_result",
          "data": {
            "text/html": [
              "<div>\n",
              "<style scoped>\n",
              "    .dataframe tbody tr th:only-of-type {\n",
              "        vertical-align: middle;\n",
              "    }\n",
              "\n",
              "    .dataframe tbody tr th {\n",
              "        vertical-align: top;\n",
              "    }\n",
              "\n",
              "    .dataframe thead th {\n",
              "        text-align: right;\n",
              "    }\n",
              "</style>\n",
              "<table border=\"1\" class=\"dataframe\">\n",
              "  <thead>\n",
              "    <tr style=\"text-align: right;\">\n",
              "      <th></th>\n",
              "      <th>age</th>\n",
              "      <th>education-num</th>\n",
              "      <th>hours-per-week</th>\n",
              "      <th>income_&gt;50K</th>\n",
              "      <th>sex_Male</th>\n",
              "      <th>workclass_?</th>\n",
              "      <th>workclass_Federal-gov</th>\n",
              "      <th>workclass_Local-gov</th>\n",
              "      <th>workclass_Private</th>\n",
              "      <th>workclass_Self-emp-inc</th>\n",
              "      <th>workclass_Self-emp-not-inc</th>\n",
              "      <th>workclass_State-gov</th>\n",
              "      <th>occupation_?</th>\n",
              "      <th>occupation_Adm-clerical</th>\n",
              "      <th>occupation_Craft-repair</th>\n",
              "      <th>occupation_Exec-managerial</th>\n",
              "      <th>occupation_Farming-fishing</th>\n",
              "      <th>occupation_Handlers-cleaners</th>\n",
              "      <th>occupation_Machine-op-inspct</th>\n",
              "      <th>occupation_Other-service</th>\n",
              "      <th>occupation_Prof-specialty</th>\n",
              "      <th>occupation_Sales</th>\n",
              "      <th>occupation_Tech-support</th>\n",
              "      <th>occupation_Transport-moving</th>\n",
              "    </tr>\n",
              "  </thead>\n",
              "  <tbody>\n",
              "    <tr>\n",
              "      <th>0</th>\n",
              "      <td>39</td>\n",
              "      <td>13</td>\n",
              "      <td>40</td>\n",
              "      <td>0</td>\n",
              "      <td>1</td>\n",
              "      <td>0</td>\n",
              "      <td>0</td>\n",
              "      <td>0</td>\n",
              "      <td>0</td>\n",
              "      <td>0</td>\n",
              "      <td>0</td>\n",
              "      <td>1</td>\n",
              "      <td>0</td>\n",
              "      <td>1</td>\n",
              "      <td>0</td>\n",
              "      <td>0</td>\n",
              "      <td>0</td>\n",
              "      <td>0</td>\n",
              "      <td>0</td>\n",
              "      <td>0</td>\n",
              "      <td>0</td>\n",
              "      <td>0</td>\n",
              "      <td>0</td>\n",
              "      <td>0</td>\n",
              "    </tr>\n",
              "    <tr>\n",
              "      <th>1</th>\n",
              "      <td>50</td>\n",
              "      <td>13</td>\n",
              "      <td>13</td>\n",
              "      <td>0</td>\n",
              "      <td>1</td>\n",
              "      <td>0</td>\n",
              "      <td>0</td>\n",
              "      <td>0</td>\n",
              "      <td>0</td>\n",
              "      <td>0</td>\n",
              "      <td>1</td>\n",
              "      <td>0</td>\n",
              "      <td>0</td>\n",
              "      <td>0</td>\n",
              "      <td>0</td>\n",
              "      <td>1</td>\n",
              "      <td>0</td>\n",
              "      <td>0</td>\n",
              "      <td>0</td>\n",
              "      <td>0</td>\n",
              "      <td>0</td>\n",
              "      <td>0</td>\n",
              "      <td>0</td>\n",
              "      <td>0</td>\n",
              "    </tr>\n",
              "    <tr>\n",
              "      <th>2</th>\n",
              "      <td>38</td>\n",
              "      <td>9</td>\n",
              "      <td>40</td>\n",
              "      <td>0</td>\n",
              "      <td>1</td>\n",
              "      <td>0</td>\n",
              "      <td>0</td>\n",
              "      <td>0</td>\n",
              "      <td>1</td>\n",
              "      <td>0</td>\n",
              "      <td>0</td>\n",
              "      <td>0</td>\n",
              "      <td>0</td>\n",
              "      <td>0</td>\n",
              "      <td>0</td>\n",
              "      <td>0</td>\n",
              "      <td>0</td>\n",
              "      <td>1</td>\n",
              "      <td>0</td>\n",
              "      <td>0</td>\n",
              "      <td>0</td>\n",
              "      <td>0</td>\n",
              "      <td>0</td>\n",
              "      <td>0</td>\n",
              "    </tr>\n",
              "    <tr>\n",
              "      <th>3</th>\n",
              "      <td>53</td>\n",
              "      <td>7</td>\n",
              "      <td>40</td>\n",
              "      <td>0</td>\n",
              "      <td>1</td>\n",
              "      <td>0</td>\n",
              "      <td>0</td>\n",
              "      <td>0</td>\n",
              "      <td>1</td>\n",
              "      <td>0</td>\n",
              "      <td>0</td>\n",
              "      <td>0</td>\n",
              "      <td>0</td>\n",
              "      <td>0</td>\n",
              "      <td>0</td>\n",
              "      <td>0</td>\n",
              "      <td>0</td>\n",
              "      <td>1</td>\n",
              "      <td>0</td>\n",
              "      <td>0</td>\n",
              "      <td>0</td>\n",
              "      <td>0</td>\n",
              "      <td>0</td>\n",
              "      <td>0</td>\n",
              "    </tr>\n",
              "    <tr>\n",
              "      <th>4</th>\n",
              "      <td>28</td>\n",
              "      <td>13</td>\n",
              "      <td>40</td>\n",
              "      <td>0</td>\n",
              "      <td>0</td>\n",
              "      <td>0</td>\n",
              "      <td>0</td>\n",
              "      <td>0</td>\n",
              "      <td>1</td>\n",
              "      <td>0</td>\n",
              "      <td>0</td>\n",
              "      <td>0</td>\n",
              "      <td>0</td>\n",
              "      <td>0</td>\n",
              "      <td>0</td>\n",
              "      <td>0</td>\n",
              "      <td>0</td>\n",
              "      <td>0</td>\n",
              "      <td>0</td>\n",
              "      <td>0</td>\n",
              "      <td>1</td>\n",
              "      <td>0</td>\n",
              "      <td>0</td>\n",
              "      <td>0</td>\n",
              "    </tr>\n",
              "  </tbody>\n",
              "</table>\n",
              "</div>"
            ],
            "text/plain": [
              "   age  education-num  ...  occupation_Tech-support  occupation_Transport-moving\n",
              "0   39             13  ...                        0                            0\n",
              "1   50             13  ...                        0                            0\n",
              "2   38              9  ...                        0                            0\n",
              "3   53              7  ...                        0                            0\n",
              "4   28             13  ...                        0                            0\n",
              "\n",
              "[5 rows x 24 columns]"
            ]
          },
          "metadata": {
            "tags": []
          },
          "execution_count": 12
        }
      ]
    },
    {
      "cell_type": "markdown",
      "metadata": {
        "id": "S2YQnriRlm7N"
      },
      "source": [
        "## Splitting dataset"
      ]
    },
    {
      "cell_type": "markdown",
      "metadata": {
        "id": "_fw_MfBWlm7N"
      },
      "source": [
        "Let's split the dataset into features and labels first.\n",
        "- `income` is the label (`y`)\n",
        "- all other columns are features (`X`)"
      ]
    },
    {
      "cell_type": "code",
      "metadata": {
        "id": "npo6JPs9lm7N",
        "colab": {
          "base_uri": "https://localhost:8080/"
        },
        "outputId": "5ede4976-1c6f-4afd-997a-33b69a2c3984"
      },
      "source": [
        "y = df['income_>50K']\n",
        "y.head()"
      ],
      "execution_count": null,
      "outputs": [
        {
          "output_type": "execute_result",
          "data": {
            "text/plain": [
              "0    0\n",
              "1    0\n",
              "2    0\n",
              "3    0\n",
              "4    0\n",
              "Name: income_>50K, dtype: uint8"
            ]
          },
          "metadata": {
            "tags": []
          },
          "execution_count": 13
        }
      ]
    },
    {
      "cell_type": "code",
      "metadata": {
        "colab": {
          "base_uri": "https://localhost:8080/",
          "height": 258
        },
        "id": "lQ9fer2QtCBS",
        "outputId": "5e97fbc6-4c54-4da6-91e7-b4ff9ff2bd76"
      },
      "source": [
        "x = df.loc[:,( df.columns != 'income_>50K')]\n",
        "x.head()"
      ],
      "execution_count": null,
      "outputs": [
        {
          "output_type": "execute_result",
          "data": {
            "text/html": [
              "<div>\n",
              "<style scoped>\n",
              "    .dataframe tbody tr th:only-of-type {\n",
              "        vertical-align: middle;\n",
              "    }\n",
              "\n",
              "    .dataframe tbody tr th {\n",
              "        vertical-align: top;\n",
              "    }\n",
              "\n",
              "    .dataframe thead th {\n",
              "        text-align: right;\n",
              "    }\n",
              "</style>\n",
              "<table border=\"1\" class=\"dataframe\">\n",
              "  <thead>\n",
              "    <tr style=\"text-align: right;\">\n",
              "      <th></th>\n",
              "      <th>age</th>\n",
              "      <th>education-num</th>\n",
              "      <th>hours-per-week</th>\n",
              "      <th>sex_Male</th>\n",
              "      <th>workclass_?</th>\n",
              "      <th>workclass_Federal-gov</th>\n",
              "      <th>workclass_Local-gov</th>\n",
              "      <th>workclass_Private</th>\n",
              "      <th>workclass_Self-emp-inc</th>\n",
              "      <th>workclass_Self-emp-not-inc</th>\n",
              "      <th>workclass_State-gov</th>\n",
              "      <th>occupation_?</th>\n",
              "      <th>occupation_Adm-clerical</th>\n",
              "      <th>occupation_Craft-repair</th>\n",
              "      <th>occupation_Exec-managerial</th>\n",
              "      <th>occupation_Farming-fishing</th>\n",
              "      <th>occupation_Handlers-cleaners</th>\n",
              "      <th>occupation_Machine-op-inspct</th>\n",
              "      <th>occupation_Other-service</th>\n",
              "      <th>occupation_Prof-specialty</th>\n",
              "      <th>occupation_Sales</th>\n",
              "      <th>occupation_Tech-support</th>\n",
              "      <th>occupation_Transport-moving</th>\n",
              "    </tr>\n",
              "  </thead>\n",
              "  <tbody>\n",
              "    <tr>\n",
              "      <th>0</th>\n",
              "      <td>39</td>\n",
              "      <td>13</td>\n",
              "      <td>40</td>\n",
              "      <td>1</td>\n",
              "      <td>0</td>\n",
              "      <td>0</td>\n",
              "      <td>0</td>\n",
              "      <td>0</td>\n",
              "      <td>0</td>\n",
              "      <td>0</td>\n",
              "      <td>1</td>\n",
              "      <td>0</td>\n",
              "      <td>1</td>\n",
              "      <td>0</td>\n",
              "      <td>0</td>\n",
              "      <td>0</td>\n",
              "      <td>0</td>\n",
              "      <td>0</td>\n",
              "      <td>0</td>\n",
              "      <td>0</td>\n",
              "      <td>0</td>\n",
              "      <td>0</td>\n",
              "      <td>0</td>\n",
              "    </tr>\n",
              "    <tr>\n",
              "      <th>1</th>\n",
              "      <td>50</td>\n",
              "      <td>13</td>\n",
              "      <td>13</td>\n",
              "      <td>1</td>\n",
              "      <td>0</td>\n",
              "      <td>0</td>\n",
              "      <td>0</td>\n",
              "      <td>0</td>\n",
              "      <td>0</td>\n",
              "      <td>1</td>\n",
              "      <td>0</td>\n",
              "      <td>0</td>\n",
              "      <td>0</td>\n",
              "      <td>0</td>\n",
              "      <td>1</td>\n",
              "      <td>0</td>\n",
              "      <td>0</td>\n",
              "      <td>0</td>\n",
              "      <td>0</td>\n",
              "      <td>0</td>\n",
              "      <td>0</td>\n",
              "      <td>0</td>\n",
              "      <td>0</td>\n",
              "    </tr>\n",
              "    <tr>\n",
              "      <th>2</th>\n",
              "      <td>38</td>\n",
              "      <td>9</td>\n",
              "      <td>40</td>\n",
              "      <td>1</td>\n",
              "      <td>0</td>\n",
              "      <td>0</td>\n",
              "      <td>0</td>\n",
              "      <td>1</td>\n",
              "      <td>0</td>\n",
              "      <td>0</td>\n",
              "      <td>0</td>\n",
              "      <td>0</td>\n",
              "      <td>0</td>\n",
              "      <td>0</td>\n",
              "      <td>0</td>\n",
              "      <td>0</td>\n",
              "      <td>1</td>\n",
              "      <td>0</td>\n",
              "      <td>0</td>\n",
              "      <td>0</td>\n",
              "      <td>0</td>\n",
              "      <td>0</td>\n",
              "      <td>0</td>\n",
              "    </tr>\n",
              "    <tr>\n",
              "      <th>3</th>\n",
              "      <td>53</td>\n",
              "      <td>7</td>\n",
              "      <td>40</td>\n",
              "      <td>1</td>\n",
              "      <td>0</td>\n",
              "      <td>0</td>\n",
              "      <td>0</td>\n",
              "      <td>1</td>\n",
              "      <td>0</td>\n",
              "      <td>0</td>\n",
              "      <td>0</td>\n",
              "      <td>0</td>\n",
              "      <td>0</td>\n",
              "      <td>0</td>\n",
              "      <td>0</td>\n",
              "      <td>0</td>\n",
              "      <td>1</td>\n",
              "      <td>0</td>\n",
              "      <td>0</td>\n",
              "      <td>0</td>\n",
              "      <td>0</td>\n",
              "      <td>0</td>\n",
              "      <td>0</td>\n",
              "    </tr>\n",
              "    <tr>\n",
              "      <th>4</th>\n",
              "      <td>28</td>\n",
              "      <td>13</td>\n",
              "      <td>40</td>\n",
              "      <td>0</td>\n",
              "      <td>0</td>\n",
              "      <td>0</td>\n",
              "      <td>0</td>\n",
              "      <td>1</td>\n",
              "      <td>0</td>\n",
              "      <td>0</td>\n",
              "      <td>0</td>\n",
              "      <td>0</td>\n",
              "      <td>0</td>\n",
              "      <td>0</td>\n",
              "      <td>0</td>\n",
              "      <td>0</td>\n",
              "      <td>0</td>\n",
              "      <td>0</td>\n",
              "      <td>0</td>\n",
              "      <td>1</td>\n",
              "      <td>0</td>\n",
              "      <td>0</td>\n",
              "      <td>0</td>\n",
              "    </tr>\n",
              "  </tbody>\n",
              "</table>\n",
              "</div>"
            ],
            "text/plain": [
              "   age  education-num  ...  occupation_Tech-support  occupation_Transport-moving\n",
              "0   39             13  ...                        0                            0\n",
              "1   50             13  ...                        0                            0\n",
              "2   38              9  ...                        0                            0\n",
              "3   53              7  ...                        0                            0\n",
              "4   28             13  ...                        0                            0\n",
              "\n",
              "[5 rows x 23 columns]"
            ]
          },
          "metadata": {
            "tags": []
          },
          "execution_count": 14
        }
      ]
    },
    {
      "cell_type": "markdown",
      "metadata": {
        "id": "mIFLZMqMlm7N"
      },
      "source": [
        "### Train test split\n",
        "#### NOTE: This time we want to split the data into 3 datasets\n",
        "Split ratio: 60, 20, 20"
      ]
    },
    {
      "cell_type": "code",
      "metadata": {
        "id": "f32TUMe9lm7N",
        "colab": {
          "base_uri": "https://localhost:8080/"
        },
        "outputId": "f547ca65-c785-4b06-be0d-1e10602142be"
      },
      "source": [
        "from sklearn.model_selection import train_test_split\n",
        "\n",
        "#train\n",
        "x_train, x_test, y_train, y_test = train_test_split(x, y, \n",
        "                                                    test_size=0.4,\n",
        "                                                    stratify = y,\n",
        "                                                    random_state= 1)\n",
        "\n",
        "x_valid, x_test, y_valid, y_test = train_test_split(x_test, y_test, \n",
        "                                                    test_size=0.5,\n",
        "                                                    stratify = y_test,\n",
        "                                                    random_state= 1)\n",
        "print(\"x train: \", x_train.shape)\n",
        "print(\"y train: \", y_train.shape)\n",
        "\n",
        "print(\"x test: \", x_test.shape)\n",
        "print(\"y test: \", y_test.shape)\n",
        "\n",
        "print(\"x valid: \", x_valid.shape)\n",
        "print(\"y valid: \", y_valid.shape)"
      ],
      "execution_count": null,
      "outputs": [
        {
          "output_type": "stream",
          "text": [
            "x train:  (19536, 23)\n",
            "y train:  (19536,)\n",
            "x test:  (6513, 23)\n",
            "y test:  (6513,)\n",
            "x valid:  (6512, 23)\n",
            "y valid:  (6512,)\n"
          ],
          "name": "stdout"
        }
      ]
    },
    {
      "cell_type": "markdown",
      "metadata": {
        "id": "JvE0MicSlm7N"
      },
      "source": [
        "# Keras"
      ]
    },
    {
      "cell_type": "markdown",
      "metadata": {
        "id": "f_PoC_N3lm7N"
      },
      "source": [
        "Import modules"
      ]
    },
    {
      "cell_type": "code",
      "metadata": {
        "id": "_xC5eE96lm7N"
      },
      "source": [
        "from tensorflow.keras.models import Sequential\n",
        "from tensorflow.keras.layers import Dense\n",
        "from tensorflow.keras.layers import Dropout\n",
        "\n",
        "from tensorflow.keras import optimizers"
      ],
      "execution_count": null,
      "outputs": []
    },
    {
      "cell_type": "markdown",
      "metadata": {
        "id": "A1KOq1r-lm7N"
      },
      "source": [
        "## Building model"
      ]
    },
    {
      "cell_type": "markdown",
      "metadata": {
        "id": "gGuGxKvxlm7N"
      },
      "source": [
        "Let's define the hyperparameters first"
      ]
    },
    {
      "cell_type": "code",
      "metadata": {
        "id": "BEj7Op0tlm7N",
        "colab": {
          "base_uri": "https://localhost:8080/"
        },
        "outputId": "c7533b6c-b24d-472d-dfb7-769365d8c13a"
      },
      "source": [
        "CELLS_1 = 32\n",
        "CELLS_2 = 8\n",
        "\n",
        "LEARNING_RATE = 0.001\n",
        "EPOCHS = 10\n",
        "BATCH_SIZE = 128\n",
        "\n",
        "NR_INPUTS = x_train.shape[1]\n",
        "\n",
        "print(f\"x_train dataset contains {NR_INPUTS} features (columns).\")"
      ],
      "execution_count": null,
      "outputs": [
        {
          "output_type": "stream",
          "text": [
            "x_train dataset contains 23 features (columns).\n"
          ],
          "name": "stdout"
        }
      ]
    },
    {
      "cell_type": "markdown",
      "metadata": {
        "id": "j4X5O2NPlm7N"
      },
      "source": [
        "Now we may build the model"
      ]
    },
    {
      "cell_type": "code",
      "metadata": {
        "id": "WNmM4PeDlm7O",
        "colab": {
          "base_uri": "https://localhost:8080/"
        },
        "outputId": "1b2e9932-aefb-4270-ac6f-512c90ce93e4"
      },
      "source": [
        "model = Sequential()\n",
        "\n",
        "#dodawanie warstw\n",
        "model.add(Dense(CELLS_1, input_shape = [NR_INPUTS, ], activation='relu'))\n",
        "model.add(Dense(CELLS_2, activation='relu'))\n",
        "model.add(Dense(1,activation='sigmoid'))\n",
        "\n",
        "optimizer = optimizers.Adam(learning_rate=LEARNING_RATE)\n",
        "\n",
        "model.compile(loss='binary_crossentropy', optimizer=optimizer, metrics=['accuracy'])\n",
        "\n",
        "model.summary()"
      ],
      "execution_count": null,
      "outputs": [
        {
          "output_type": "stream",
          "text": [
            "Model: \"sequential_1\"\n",
            "_________________________________________________________________\n",
            "Layer (type)                 Output Shape              Param #   \n",
            "=================================================================\n",
            "dense_3 (Dense)              (None, 32)                768       \n",
            "_________________________________________________________________\n",
            "dense_4 (Dense)              (None, 8)                 264       \n",
            "_________________________________________________________________\n",
            "dense_5 (Dense)              (None, 1)                 9         \n",
            "=================================================================\n",
            "Total params: 1,041\n",
            "Trainable params: 1,041\n",
            "Non-trainable params: 0\n",
            "_________________________________________________________________\n"
          ],
          "name": "stdout"
        }
      ]
    },
    {
      "cell_type": "code",
      "metadata": {
        "id": "sT_ZyjWElm7O",
        "colab": {
          "base_uri": "https://localhost:8080/"
        },
        "outputId": "09995e34-e942-4f86-c08f-795e902a0e05"
      },
      "source": [
        "history = model.fit(x_train, y_train,\n",
        "                    validation_data = (x_valid, y_valid),\n",
        "                    batch_size = BATCH_SIZE,\n",
        "                    epochs = EPOCHS\n",
        "                    )"
      ],
      "execution_count": null,
      "outputs": [
        {
          "output_type": "stream",
          "text": [
            "Epoch 1/10\n",
            "153/153 [==============================] - 0s 3ms/step - loss: 0.5640 - accuracy: 0.7491 - val_loss: 0.5325 - val_accuracy: 0.7592\n",
            "Epoch 2/10\n",
            "153/153 [==============================] - 0s 2ms/step - loss: 0.4811 - accuracy: 0.7761 - val_loss: 0.4580 - val_accuracy: 0.7905\n",
            "Epoch 3/10\n",
            "153/153 [==============================] - 0s 2ms/step - loss: 0.4517 - accuracy: 0.7889 - val_loss: 0.4454 - val_accuracy: 0.7925\n",
            "Epoch 4/10\n",
            "153/153 [==============================] - 0s 2ms/step - loss: 0.4390 - accuracy: 0.7932 - val_loss: 0.4314 - val_accuracy: 0.7990\n",
            "Epoch 5/10\n",
            "153/153 [==============================] - 0s 2ms/step - loss: 0.4337 - accuracy: 0.7962 - val_loss: 0.4214 - val_accuracy: 0.8041\n",
            "Epoch 6/10\n",
            "153/153 [==============================] - 0s 2ms/step - loss: 0.4264 - accuracy: 0.8007 - val_loss: 0.4211 - val_accuracy: 0.8044\n",
            "Epoch 7/10\n",
            "153/153 [==============================] - 0s 2ms/step - loss: 0.4224 - accuracy: 0.8022 - val_loss: 0.4331 - val_accuracy: 0.7970\n",
            "Epoch 8/10\n",
            "153/153 [==============================] - 0s 2ms/step - loss: 0.4203 - accuracy: 0.8041 - val_loss: 0.4179 - val_accuracy: 0.8076\n",
            "Epoch 9/10\n",
            "153/153 [==============================] - 0s 2ms/step - loss: 0.4146 - accuracy: 0.8044 - val_loss: 0.4084 - val_accuracy: 0.8130\n",
            "Epoch 10/10\n",
            "153/153 [==============================] - 0s 2ms/step - loss: 0.4190 - accuracy: 0.8022 - val_loss: 0.4200 - val_accuracy: 0.8013\n"
          ],
          "name": "stdout"
        }
      ]
    },
    {
      "cell_type": "markdown",
      "metadata": {
        "id": "1fCbbJmmlm7O"
      },
      "source": [
        "Let's display the training history"
      ]
    },
    {
      "cell_type": "code",
      "metadata": {
        "id": "H8hKDpwClm7O"
      },
      "source": [
        "def plot_train_valid_history(history):\n",
        "    \"\"\"\n",
        "    Plots train and validation losses.\n",
        "    Arguments: history - history of training (result of keras model.fit).\n",
        "        history.history must be a dictionary that looks as follow:\n",
        "        {\n",
        "            'loss' : .....\n",
        "            'valid_loss' : .....\n",
        "            'acc' : .... # Optional\n",
        "            'val_acc' : ..... # Optional\n",
        "        }\n",
        "    \"\"\"\n",
        "    epochs = np.arange(len(history.history['val_loss'])) + 1\n",
        "    fig = plt.figure(figsize=(16, 8))\n",
        "    if 'accuracy' in history.history:\n",
        "        ax1 = fig.add_subplot(121)\n",
        "        ax1.plot(epochs, history.history['loss'], c='b', label='Train loss')\n",
        "        ax1.plot(epochs, history.history['val_loss'], c='g', label='Valid loss')\n",
        "        plt.legend(loc='lower left');\n",
        "        plt.grid(True)        \n",
        "        \n",
        "        ax1 = fig.add_subplot(122)\n",
        "        ax1.plot(epochs, history.history['accuracy'], c='b', label='Train acc')\n",
        "        ax1.plot(epochs, history.history['val_accuracy'], c='g', label='Valid acc')\n",
        "        plt.legend(loc='lower right');\n",
        "        plt.grid(True)        \n",
        "         \n",
        "        \n",
        "    else:\n",
        "        ax1 = fig.add_subplot(111)\n",
        "        ax1.plot(epochs, history.history['loss'], c='b', label='Train loss')\n",
        "        ax1.plot(epochs, history.history['val_loss'], c='g', label='Valid loss')\n",
        "        plt.legend(loc='lower left');\n",
        "        plt.grid(True)\n",
        "    plt.show()\n",
        "\n"
      ],
      "execution_count": null,
      "outputs": []
    },
    {
      "cell_type": "code",
      "metadata": {
        "id": "k_YVToUalm7O",
        "colab": {
          "base_uri": "https://localhost:8080/",
          "height": 483
        },
        "outputId": "30a7db03-f98f-448d-de65-833cd79931c8"
      },
      "source": [
        "plot_train_valid_history(history)"
      ],
      "execution_count": null,
      "outputs": [
        {
          "output_type": "display_data",
          "data": {
            "image/png": "[encoded data removed]",
            "text/plain": [
              "<Figure size 1152x576 with 2 Axes>"
            ]
          },
          "metadata": {
            "tags": [],
            "needs_background": "light"
          }
        }
      ]
    },
    {
      "cell_type": "code",
      "metadata": {
        "id": "mm2wqRFClm7O",
        "colab": {
          "base_uri": "https://localhost:8080/"
        },
        "outputId": "b0890bc3-17c0-40d5-b550-1e5fad9432f8"
      },
      "source": [
        "score, acc = model.evaluate(x_test,y_test)\n",
        "print('Test score:', score)\n",
        "print('Test accuracy:', acc)"
      ],
      "execution_count": null,
      "outputs": [
        {
          "output_type": "stream",
          "text": [
            "204/204 [==============================] - 0s 1ms/step - loss: 0.4201 - accuracy: 0.8015\n",
            "Test score: 0.42011263966560364\n",
            "Test accuracy: 0.8014739751815796\n"
          ],
          "name": "stdout"
        }
      ]
    },
    {
      "cell_type": "markdown",
      "metadata": {
        "id": "a8LnE2cDlm7O"
      },
      "source": [
        "## Task 1\n",
        "Create, train and test a model with following parameters:\n",
        "- First hidden layer: 32 neurons, relu activation\n",
        "- Dropout after first hidden layer keep_probability = 0.5\n",
        "- Second hidden layer: 32 neurons, relu activation\n",
        "- Output layer: 1 neuron, sigmoid activation\n",
        "\n",
        "Training parameters:\n",
        "- Learning Rate: 0.0003\n",
        "- Number of Epochs: 50\n",
        "- Batch size: 128\n",
        "\n",
        "*Note: You will need your model in task 2, so it is a good idea to write a function, which creates the model.*\n",
        "\n",
        "![alt text](./img/model_keras_task1.png \"Task 1 model\")"
      ]
    },
    {
      "cell_type": "code",
      "metadata": {
        "id": "DhMMqZOWlm7O",
        "colab": {
          "base_uri": "https://localhost:8080/"
        },
        "outputId": "67357417-bc8c-44c6-df8c-593e99bc484b"
      },
      "source": [
        "# HYPERPARAMETERS\n",
        "CELLS_1 = 32\n",
        "CELLS_2 = 32\n",
        "\n",
        "LEARNING_RATE = 0.0003\n",
        "EPOCHS = 50\n",
        "BATCH_SIZE = 128\n",
        "\n",
        "NR_INPUTS = x_train.shape[1]\n",
        "\n",
        "print(f\"x_train dataset contains {NR_INPUTS} features (columns).\")\n"
      ],
      "execution_count": null,
      "outputs": [
        {
          "output_type": "stream",
          "text": [
            "x_train dataset contains 23 features (columns).\n"
          ],
          "name": "stdout"
        }
      ]
    },
    {
      "cell_type": "code",
      "metadata": {
        "id": "7dTDu8GPlm7O"
      },
      "source": [
        "def create_model():\n",
        "    model = Sequential()\n",
        "    \n",
        "    #dodawanie warstw\n",
        "    model.add(Dense(CELLS_1, input_shape = [NR_INPUTS, ], activation='relu'))\n",
        "    model.add(Dropout(0.5))\n",
        "    model.add(Dense(CELLS_2, activation='relu'))\n",
        "    #warstwa wyjściowa\n",
        "    model.add(Dense(1,activation='sigmoid'))\n",
        "\n",
        "    optimizer = optimizers.Adam(learning_rate=LEARNING_RATE)\n",
        "\n",
        "    model.compile(loss='binary_crossentropy', optimizer=optimizer, metrics=['accuracy'])\n",
        "\n",
        "    return model\n"
      ],
      "execution_count": null,
      "outputs": []
    },
    {
      "cell_type": "code",
      "metadata": {
        "id": "8HH1umCBlm7O",
        "colab": {
          "base_uri": "https://localhost:8080/"
        },
        "outputId": "b2982088-e26c-4fd5-c63b-58d0899365ce"
      },
      "source": [
        "model1 = create_model()\n",
        "model1.summary()"
      ],
      "execution_count": null,
      "outputs": [
        {
          "output_type": "stream",
          "text": [
            "Model: \"sequential_2\"\n",
            "_________________________________________________________________\n",
            "Layer (type)                 Output Shape              Param #   \n",
            "=================================================================\n",
            "dense_6 (Dense)              (None, 32)                768       \n",
            "_________________________________________________________________\n",
            "dropout (Dropout)            (None, 32)                0         \n",
            "_________________________________________________________________\n",
            "dense_7 (Dense)              (None, 32)                1056      \n",
            "_________________________________________________________________\n",
            "dense_8 (Dense)              (None, 1)                 33        \n",
            "=================================================================\n",
            "Total params: 1,857\n",
            "Trainable params: 1,857\n",
            "Non-trainable params: 0\n",
            "_________________________________________________________________\n"
          ],
          "name": "stdout"
        }
      ]
    },
    {
      "cell_type": "code",
      "metadata": {
        "id": "JrtVeC4ulm7O",
        "colab": {
          "base_uri": "https://localhost:8080/"
        },
        "outputId": "077d4e00-1723-4923-e455-c7588909a09b"
      },
      "source": [
        "# ENTER YOUR CODE HERE\n",
        "history = model1.fit(x_train, y_train,\n",
        "                    validation_data = (x_valid, y_valid),\n",
        "                    batch_size = BATCH_SIZE,\n",
        "                    epochs = EPOCHS\n",
        "                    )"
      ],
      "execution_count": null,
      "outputs": [
        {
          "output_type": "stream",
          "text": [
            "Epoch 1/50\n",
            "153/153 [==============================] - 0s 3ms/step - loss: 2.5195 - accuracy: 0.6296 - val_loss: 0.7346 - val_accuracy: 0.7592\n",
            "Epoch 2/50\n",
            "153/153 [==============================] - 0s 2ms/step - loss: 1.1336 - accuracy: 0.6458 - val_loss: 0.5663 - val_accuracy: 0.7592\n",
            "Epoch 3/50\n",
            "153/153 [==============================] - 0s 2ms/step - loss: 0.7984 - accuracy: 0.6726 - val_loss: 0.5706 - val_accuracy: 0.7592\n",
            "Epoch 4/50\n",
            "153/153 [==============================] - 0s 2ms/step - loss: 0.7030 - accuracy: 0.6934 - val_loss: 0.5680 - val_accuracy: 0.7592\n",
            "Epoch 5/50\n",
            "153/153 [==============================] - 0s 2ms/step - loss: 0.6556 - accuracy: 0.7064 - val_loss: 0.5537 - val_accuracy: 0.7592\n",
            "Epoch 6/50\n",
            "153/153 [==============================] - 0s 2ms/step - loss: 0.6273 - accuracy: 0.7215 - val_loss: 0.5496 - val_accuracy: 0.7592\n",
            "Epoch 7/50\n",
            "153/153 [==============================] - 0s 2ms/step - loss: 0.6002 - accuracy: 0.7338 - val_loss: 0.5403 - val_accuracy: 0.7592\n",
            "Epoch 8/50\n",
            "153/153 [==============================] - 0s 2ms/step - loss: 0.5807 - accuracy: 0.7421 - val_loss: 0.5302 - val_accuracy: 0.7592\n",
            "Epoch 9/50\n",
            "153/153 [==============================] - 0s 2ms/step - loss: 0.5709 - accuracy: 0.7484 - val_loss: 0.5265 - val_accuracy: 0.7592\n",
            "Epoch 10/50\n",
            "153/153 [==============================] - 0s 2ms/step - loss: 0.5635 - accuracy: 0.7511 - val_loss: 0.5254 - val_accuracy: 0.7592\n",
            "Epoch 11/50\n",
            "153/153 [==============================] - 0s 2ms/step - loss: 0.5506 - accuracy: 0.7560 - val_loss: 0.5159 - val_accuracy: 0.7592\n",
            "Epoch 12/50\n",
            "153/153 [==============================] - 0s 2ms/step - loss: 0.5464 - accuracy: 0.7560 - val_loss: 0.5117 - val_accuracy: 0.7592\n",
            "Epoch 13/50\n",
            "153/153 [==============================] - 0s 2ms/step - loss: 0.5383 - accuracy: 0.7576 - val_loss: 0.5089 - val_accuracy: 0.7592\n",
            "Epoch 14/50\n",
            "153/153 [==============================] - 0s 2ms/step - loss: 0.5327 - accuracy: 0.7581 - val_loss: 0.5027 - val_accuracy: 0.7592\n",
            "Epoch 15/50\n",
            "153/153 [==============================] - 0s 2ms/step - loss: 0.5260 - accuracy: 0.7577 - val_loss: 0.4999 - val_accuracy: 0.7592\n",
            "Epoch 16/50\n",
            "153/153 [==============================] - 0s 2ms/step - loss: 0.5179 - accuracy: 0.7600 - val_loss: 0.5026 - val_accuracy: 0.7592\n",
            "Epoch 17/50\n",
            "153/153 [==============================] - 0s 2ms/step - loss: 0.5147 - accuracy: 0.7584 - val_loss: 0.4985 - val_accuracy: 0.7592\n",
            "Epoch 18/50\n",
            "153/153 [==============================] - 0s 2ms/step - loss: 0.5100 - accuracy: 0.7610 - val_loss: 0.4849 - val_accuracy: 0.7592\n",
            "Epoch 19/50\n",
            "153/153 [==============================] - 0s 2ms/step - loss: 0.5047 - accuracy: 0.7607 - val_loss: 0.4895 - val_accuracy: 0.7592\n",
            "Epoch 20/50\n",
            "153/153 [==============================] - 0s 2ms/step - loss: 0.5001 - accuracy: 0.7629 - val_loss: 0.4859 - val_accuracy: 0.7592\n",
            "Epoch 21/50\n",
            "153/153 [==============================] - 0s 2ms/step - loss: 0.4955 - accuracy: 0.7621 - val_loss: 0.5003 - val_accuracy: 0.7592\n",
            "Epoch 22/50\n",
            "153/153 [==============================] - 0s 2ms/step - loss: 0.4930 - accuracy: 0.7643 - val_loss: 0.4709 - val_accuracy: 0.7592\n",
            "Epoch 23/50\n",
            "153/153 [==============================] - 0s 2ms/step - loss: 0.4854 - accuracy: 0.7675 - val_loss: 0.4842 - val_accuracy: 0.7592\n",
            "Epoch 24/50\n",
            "153/153 [==============================] - 0s 2ms/step - loss: 0.4852 - accuracy: 0.7688 - val_loss: 0.4911 - val_accuracy: 0.7592\n",
            "Epoch 25/50\n",
            "153/153 [==============================] - 0s 2ms/step - loss: 0.4816 - accuracy: 0.7703 - val_loss: 0.4772 - val_accuracy: 0.7592\n",
            "Epoch 26/50\n",
            "153/153 [==============================] - 0s 2ms/step - loss: 0.4793 - accuracy: 0.7720 - val_loss: 0.4672 - val_accuracy: 0.7592\n",
            "Epoch 27/50\n",
            "153/153 [==============================] - 0s 2ms/step - loss: 0.4748 - accuracy: 0.7750 - val_loss: 0.4746 - val_accuracy: 0.7592\n",
            "Epoch 28/50\n",
            "153/153 [==============================] - 0s 2ms/step - loss: 0.4732 - accuracy: 0.7753 - val_loss: 0.4718 - val_accuracy: 0.7592\n",
            "Epoch 29/50\n",
            "153/153 [==============================] - 0s 2ms/step - loss: 0.4686 - accuracy: 0.7762 - val_loss: 0.4678 - val_accuracy: 0.7592\n",
            "Epoch 30/50\n",
            "153/153 [==============================] - 0s 2ms/step - loss: 0.4670 - accuracy: 0.7753 - val_loss: 0.4784 - val_accuracy: 0.7592\n",
            "Epoch 31/50\n",
            "153/153 [==============================] - 0s 2ms/step - loss: 0.4678 - accuracy: 0.7776 - val_loss: 0.4712 - val_accuracy: 0.7592\n",
            "Epoch 32/50\n",
            "153/153 [==============================] - 0s 2ms/step - loss: 0.4633 - accuracy: 0.7790 - val_loss: 0.4575 - val_accuracy: 0.7598\n",
            "Epoch 33/50\n",
            "153/153 [==============================] - 0s 2ms/step - loss: 0.4621 - accuracy: 0.7791 - val_loss: 0.4687 - val_accuracy: 0.7592\n",
            "Epoch 34/50\n",
            "153/153 [==============================] - 0s 2ms/step - loss: 0.4611 - accuracy: 0.7778 - val_loss: 0.4767 - val_accuracy: 0.7592\n",
            "Epoch 35/50\n",
            "153/153 [==============================] - 0s 2ms/step - loss: 0.4573 - accuracy: 0.7796 - val_loss: 0.4656 - val_accuracy: 0.7595\n",
            "Epoch 36/50\n",
            "153/153 [==============================] - 0s 2ms/step - loss: 0.4572 - accuracy: 0.7820 - val_loss: 0.4724 - val_accuracy: 0.7592\n",
            "Epoch 37/50\n",
            "153/153 [==============================] - 0s 2ms/step - loss: 0.4571 - accuracy: 0.7815 - val_loss: 0.4707 - val_accuracy: 0.7594\n",
            "Epoch 38/50\n",
            "153/153 [==============================] - 0s 2ms/step - loss: 0.4548 - accuracy: 0.7829 - val_loss: 0.4669 - val_accuracy: 0.7597\n",
            "Epoch 39/50\n",
            "153/153 [==============================] - 0s 2ms/step - loss: 0.4536 - accuracy: 0.7805 - val_loss: 0.4926 - val_accuracy: 0.7592\n",
            "Epoch 40/50\n",
            "153/153 [==============================] - 0s 2ms/step - loss: 0.4542 - accuracy: 0.7860 - val_loss: 0.4965 - val_accuracy: 0.7592\n",
            "Epoch 41/50\n",
            "153/153 [==============================] - 0s 2ms/step - loss: 0.4488 - accuracy: 0.7877 - val_loss: 0.4855 - val_accuracy: 0.7592\n",
            "Epoch 42/50\n",
            "153/153 [==============================] - 0s 2ms/step - loss: 0.4514 - accuracy: 0.7843 - val_loss: 0.4956 - val_accuracy: 0.7592\n",
            "Epoch 43/50\n",
            "153/153 [==============================] - 0s 2ms/step - loss: 0.4511 - accuracy: 0.7832 - val_loss: 0.4903 - val_accuracy: 0.7592\n",
            "Epoch 44/50\n",
            "153/153 [==============================] - 0s 2ms/step - loss: 0.4498 - accuracy: 0.7867 - val_loss: 0.5091 - val_accuracy: 0.7592\n",
            "Epoch 45/50\n",
            "153/153 [==============================] - 0s 2ms/step - loss: 0.4489 - accuracy: 0.7857 - val_loss: 0.5051 - val_accuracy: 0.7592\n",
            "Epoch 46/50\n",
            "153/153 [==============================] - 0s 2ms/step - loss: 0.4462 - accuracy: 0.7876 - val_loss: 0.5242 - val_accuracy: 0.7592\n",
            "Epoch 47/50\n",
            "153/153 [==============================] - 0s 2ms/step - loss: 0.4468 - accuracy: 0.7884 - val_loss: 0.5239 - val_accuracy: 0.7592\n",
            "Epoch 48/50\n",
            "153/153 [==============================] - 0s 2ms/step - loss: 0.4474 - accuracy: 0.7846 - val_loss: 0.4949 - val_accuracy: 0.7592\n",
            "Epoch 49/50\n",
            "153/153 [==============================] - 0s 2ms/step - loss: 0.4448 - accuracy: 0.7880 - val_loss: 0.4794 - val_accuracy: 0.7598\n",
            "Epoch 50/50\n",
            "153/153 [==============================] - 0s 2ms/step - loss: 0.4425 - accuracy: 0.7872 - val_loss: 0.5047 - val_accuracy: 0.7592\n"
          ],
          "name": "stdout"
        }
      ]
    },
    {
      "cell_type": "code",
      "metadata": {
        "colab": {
          "base_uri": "https://localhost:8080/",
          "height": 483
        },
        "id": "T5mg6K-MCQwv",
        "outputId": "4037f1a4-9103-4c2c-e0b5-0a7308d998d0"
      },
      "source": [
        "plot_train_valid_history(history)"
      ],
      "execution_count": null,
      "outputs": [
        {
          "output_type": "display_data",
          "data": {
            "image/png": "[encoded data removed]",
            "text/plain": [
              "<Figure size 1152x576 with 2 Axes>"
            ]
          },
          "metadata": {
            "tags": [],
            "needs_background": "light"
          }
        }
      ]
    },
    {
      "cell_type": "code",
      "metadata": {
        "colab": {
          "base_uri": "https://localhost:8080/"
        },
        "id": "Y9u5e_2SCXqd",
        "outputId": "63dc86b8-14bd-4a89-a884-0216f0f499c3"
      },
      "source": [
        "score, acc = model1.evaluate(x_test,y_test)\n",
        "print('Test score:', score)\n",
        "print('Test accuracy:', acc)"
      ],
      "execution_count": null,
      "outputs": [
        {
          "output_type": "stream",
          "text": [
            "204/204 [==============================] - 0s 848us/step - loss: 0.5048 - accuracy: 0.7591\n",
            "Test score: 0.5048331618309021\n",
            "Test accuracy: 0.7590972185134888\n"
          ],
          "name": "stdout"
        }
      ]
    },
    {
      "cell_type": "markdown",
      "metadata": {
        "id": "fNGe1ynwlm7O"
      },
      "source": [
        "## Question 1\n",
        "- How does the model behave. Can you see any overfitting or undergitting problems?\n",
        "- How you can prevent these problems?"
      ]
    },
    {
      "cell_type": "markdown",
      "metadata": {
        "id": "oXCE5JHGlm7O"
      },
      "source": [
        "## Task 2\n",
        "Normalize your features. Use StandardScaler from sklearn.preprocessing library. Then train your model on the normalized features. Did it change anything with the behaviour of the model?"
      ]
    },
    {
      "cell_type": "code",
      "metadata": {
        "id": "m27KsP3olm7O"
      },
      "source": [
        "from sklearn.preprocessing import StandardScaler\n",
        "\n",
        "scaler = StandardScaler()"
      ],
      "execution_count": null,
      "outputs": []
    },
    {
      "cell_type": "code",
      "metadata": {
        "id": "QH2ThAMKyTNt"
      },
      "source": [
        "x_train = scaler.fit_transform(x_train)\n",
        "x_test = scaler.transform(x_test)\n",
        "x_valid = scaler.transform(x_valid)"
      ],
      "execution_count": null,
      "outputs": []
    },
    {
      "cell_type": "code",
      "metadata": {
        "colab": {
          "base_uri": "https://localhost:8080/"
        },
        "id": "pZMqXpyo12E8",
        "outputId": "86f58634-b21b-4be8-8617-389114efeb48"
      },
      "source": [
        "# HYPERPARAMETERS\n",
        "CELLS_1 = 32\n",
        "CELLS_2 = 32\n",
        "\n",
        "LEARNING_RATE = 0.0003\n",
        "EPOCHS = 50\n",
        "BATCH_SIZE = 128\n",
        "\n",
        "NR_INPUTS = x_train.shape[1]\n",
        "\n",
        "print(f\"x_train dataset contains {NR_INPUTS} features (columns).\")"
      ],
      "execution_count": null,
      "outputs": [
        {
          "output_type": "stream",
          "text": [
            "x_train dataset contains 23 features (columns).\n"
          ],
          "name": "stdout"
        }
      ]
    },
    {
      "cell_type": "code",
      "metadata": {
        "id": "LiSqt8Kclm7O",
        "colab": {
          "base_uri": "https://localhost:8080/"
        },
        "outputId": "e4234392-6b14-4043-99d2-41cd64664f48"
      },
      "source": [
        "# Create and train the model\n",
        "model2 = create_model()\n",
        "\n",
        "model2.summary()"
      ],
      "execution_count": null,
      "outputs": [
        {
          "output_type": "stream",
          "text": [
            "Model: \"sequential_3\"\n",
            "_________________________________________________________________\n",
            "Layer (type)                 Output Shape              Param #   \n",
            "=================================================================\n",
            "dense_9 (Dense)              (None, 32)                768       \n",
            "_________________________________________________________________\n",
            "dropout_1 (Dropout)          (None, 32)                0         \n",
            "_________________________________________________________________\n",
            "dense_10 (Dense)             (None, 32)                1056      \n",
            "_________________________________________________________________\n",
            "dense_11 (Dense)             (None, 1)                 33        \n",
            "=================================================================\n",
            "Total params: 1,857\n",
            "Trainable params: 1,857\n",
            "Non-trainable params: 0\n",
            "_________________________________________________________________\n"
          ],
          "name": "stdout"
        }
      ]
    },
    {
      "cell_type": "code",
      "metadata": {
        "id": "j1tTbhJplm7O",
        "colab": {
          "base_uri": "https://localhost:8080/"
        },
        "outputId": "9ad8c4da-8cd4-4479-f022-4f8a7428ded9"
      },
      "source": [
        "history = model2.fit(x_train, y_train,\n",
        "                    validation_data = (x_valid, y_valid),\n",
        "                    batch_size = BATCH_SIZE,\n",
        "                    epochs = EPOCHS\n",
        "                    )"
      ],
      "execution_count": null,
      "outputs": [
        {
          "output_type": "stream",
          "text": [
            "Epoch 1/50\n",
            "153/153 [==============================] - 0s 2ms/step - loss: 0.5682 - accuracy: 0.7204 - val_loss: 0.4749 - val_accuracy: 0.7996\n",
            "Epoch 2/50\n",
            "153/153 [==============================] - 0s 2ms/step - loss: 0.4936 - accuracy: 0.7731 - val_loss: 0.4385 - val_accuracy: 0.8104\n",
            "Epoch 3/50\n",
            "153/153 [==============================] - 0s 2ms/step - loss: 0.4733 - accuracy: 0.7800 - val_loss: 0.4230 - val_accuracy: 0.8120\n",
            "Epoch 4/50\n",
            "153/153 [==============================] - 0s 2ms/step - loss: 0.4578 - accuracy: 0.7802 - val_loss: 0.4175 - val_accuracy: 0.8108\n",
            "Epoch 5/50\n",
            "153/153 [==============================] - 0s 2ms/step - loss: 0.4502 - accuracy: 0.7859 - val_loss: 0.4119 - val_accuracy: 0.8154\n",
            "Epoch 6/50\n",
            "153/153 [==============================] - 0s 2ms/step - loss: 0.4441 - accuracy: 0.7922 - val_loss: 0.4085 - val_accuracy: 0.8165\n",
            "Epoch 7/50\n",
            "153/153 [==============================] - 0s 2ms/step - loss: 0.4431 - accuracy: 0.7910 - val_loss: 0.4058 - val_accuracy: 0.8173\n",
            "Epoch 8/50\n",
            "153/153 [==============================] - 0s 2ms/step - loss: 0.4382 - accuracy: 0.7945 - val_loss: 0.4053 - val_accuracy: 0.8180\n",
            "Epoch 9/50\n",
            "153/153 [==============================] - 0s 2ms/step - loss: 0.4373 - accuracy: 0.7904 - val_loss: 0.4052 - val_accuracy: 0.8174\n",
            "Epoch 10/50\n",
            "153/153 [==============================] - 0s 2ms/step - loss: 0.4339 - accuracy: 0.7935 - val_loss: 0.4037 - val_accuracy: 0.8179\n",
            "Epoch 11/50\n",
            "153/153 [==============================] - 0s 2ms/step - loss: 0.4328 - accuracy: 0.7940 - val_loss: 0.4024 - val_accuracy: 0.8183\n",
            "Epoch 12/50\n",
            "153/153 [==============================] - 0s 2ms/step - loss: 0.4303 - accuracy: 0.7989 - val_loss: 0.4013 - val_accuracy: 0.8176\n",
            "Epoch 13/50\n",
            "153/153 [==============================] - 0s 2ms/step - loss: 0.4282 - accuracy: 0.7985 - val_loss: 0.4015 - val_accuracy: 0.8160\n",
            "Epoch 14/50\n",
            "153/153 [==============================] - 0s 2ms/step - loss: 0.4285 - accuracy: 0.8002 - val_loss: 0.3989 - val_accuracy: 0.8193\n",
            "Epoch 15/50\n",
            "153/153 [==============================] - 0s 2ms/step - loss: 0.4269 - accuracy: 0.7978 - val_loss: 0.3981 - val_accuracy: 0.8197\n",
            "Epoch 16/50\n",
            "153/153 [==============================] - 0s 2ms/step - loss: 0.4224 - accuracy: 0.8035 - val_loss: 0.3979 - val_accuracy: 0.8205\n",
            "Epoch 17/50\n",
            "153/153 [==============================] - 0s 2ms/step - loss: 0.4237 - accuracy: 0.8025 - val_loss: 0.3984 - val_accuracy: 0.8203\n",
            "Epoch 18/50\n",
            "153/153 [==============================] - 0s 2ms/step - loss: 0.4231 - accuracy: 0.8030 - val_loss: 0.3981 - val_accuracy: 0.8208\n",
            "Epoch 19/50\n",
            "153/153 [==============================] - 0s 2ms/step - loss: 0.4203 - accuracy: 0.8047 - val_loss: 0.3971 - val_accuracy: 0.8211\n",
            "Epoch 20/50\n",
            "153/153 [==============================] - 0s 2ms/step - loss: 0.4195 - accuracy: 0.8057 - val_loss: 0.3963 - val_accuracy: 0.8225\n",
            "Epoch 21/50\n",
            "153/153 [==============================] - 0s 2ms/step - loss: 0.4193 - accuracy: 0.8045 - val_loss: 0.3974 - val_accuracy: 0.8202\n",
            "Epoch 22/50\n",
            "153/153 [==============================] - 0s 2ms/step - loss: 0.4159 - accuracy: 0.8070 - val_loss: 0.3970 - val_accuracy: 0.8217\n",
            "Epoch 23/50\n",
            "153/153 [==============================] - 0s 2ms/step - loss: 0.4159 - accuracy: 0.8043 - val_loss: 0.3950 - val_accuracy: 0.8225\n",
            "Epoch 24/50\n",
            "153/153 [==============================] - 0s 2ms/step - loss: 0.4157 - accuracy: 0.8082 - val_loss: 0.3946 - val_accuracy: 0.8236\n",
            "Epoch 25/50\n",
            "153/153 [==============================] - 0s 2ms/step - loss: 0.4162 - accuracy: 0.8098 - val_loss: 0.3942 - val_accuracy: 0.8243\n",
            "Epoch 26/50\n",
            "153/153 [==============================] - 0s 2ms/step - loss: 0.4136 - accuracy: 0.8107 - val_loss: 0.3938 - val_accuracy: 0.8248\n",
            "Epoch 27/50\n",
            "153/153 [==============================] - 0s 2ms/step - loss: 0.4130 - accuracy: 0.8104 - val_loss: 0.3938 - val_accuracy: 0.8249\n",
            "Epoch 28/50\n",
            "153/153 [==============================] - 0s 2ms/step - loss: 0.4125 - accuracy: 0.8071 - val_loss: 0.3940 - val_accuracy: 0.8249\n",
            "Epoch 29/50\n",
            "153/153 [==============================] - 0s 2ms/step - loss: 0.4133 - accuracy: 0.8083 - val_loss: 0.3935 - val_accuracy: 0.8256\n",
            "Epoch 30/50\n",
            "153/153 [==============================] - 0s 2ms/step - loss: 0.4129 - accuracy: 0.8078 - val_loss: 0.3940 - val_accuracy: 0.8256\n",
            "Epoch 31/50\n",
            "153/153 [==============================] - 0s 2ms/step - loss: 0.4117 - accuracy: 0.8105 - val_loss: 0.3943 - val_accuracy: 0.8256\n",
            "Epoch 32/50\n",
            "153/153 [==============================] - 0s 2ms/step - loss: 0.4104 - accuracy: 0.8093 - val_loss: 0.3952 - val_accuracy: 0.8245\n",
            "Epoch 33/50\n",
            "153/153 [==============================] - 0s 2ms/step - loss: 0.4103 - accuracy: 0.8088 - val_loss: 0.3940 - val_accuracy: 0.8248\n",
            "Epoch 34/50\n",
            "153/153 [==============================] - 0s 2ms/step - loss: 0.4085 - accuracy: 0.8107 - val_loss: 0.3945 - val_accuracy: 0.8246\n",
            "Epoch 35/50\n",
            "153/153 [==============================] - 0s 2ms/step - loss: 0.4106 - accuracy: 0.8108 - val_loss: 0.3939 - val_accuracy: 0.8246\n",
            "Epoch 36/50\n",
            "153/153 [==============================] - 0s 2ms/step - loss: 0.4092 - accuracy: 0.8105 - val_loss: 0.3947 - val_accuracy: 0.8234\n",
            "Epoch 37/50\n",
            "153/153 [==============================] - 0s 2ms/step - loss: 0.4081 - accuracy: 0.8103 - val_loss: 0.3937 - val_accuracy: 0.8252\n",
            "Epoch 38/50\n",
            "153/153 [==============================] - 0s 2ms/step - loss: 0.4070 - accuracy: 0.8118 - val_loss: 0.3932 - val_accuracy: 0.8239\n",
            "Epoch 39/50\n",
            "153/153 [==============================] - 0s 2ms/step - loss: 0.4060 - accuracy: 0.8127 - val_loss: 0.3932 - val_accuracy: 0.8237\n",
            "Epoch 40/50\n",
            "153/153 [==============================] - 0s 2ms/step - loss: 0.4059 - accuracy: 0.8130 - val_loss: 0.3933 - val_accuracy: 0.8245\n",
            "Epoch 41/50\n",
            "153/153 [==============================] - 0s 2ms/step - loss: 0.4080 - accuracy: 0.8125 - val_loss: 0.3939 - val_accuracy: 0.8232\n",
            "Epoch 42/50\n",
            "153/153 [==============================] - 0s 2ms/step - loss: 0.4054 - accuracy: 0.8136 - val_loss: 0.3947 - val_accuracy: 0.8240\n",
            "Epoch 43/50\n",
            "153/153 [==============================] - 0s 2ms/step - loss: 0.4033 - accuracy: 0.8148 - val_loss: 0.3945 - val_accuracy: 0.8231\n",
            "Epoch 44/50\n",
            "153/153 [==============================] - 0s 2ms/step - loss: 0.4052 - accuracy: 0.8108 - val_loss: 0.3967 - val_accuracy: 0.8236\n",
            "Epoch 45/50\n",
            "153/153 [==============================] - 0s 2ms/step - loss: 0.4061 - accuracy: 0.8143 - val_loss: 0.3948 - val_accuracy: 0.8228\n",
            "Epoch 46/50\n",
            "153/153 [==============================] - 0s 2ms/step - loss: 0.4045 - accuracy: 0.8141 - val_loss: 0.3948 - val_accuracy: 0.8243\n",
            "Epoch 47/50\n",
            "153/153 [==============================] - 0s 2ms/step - loss: 0.4042 - accuracy: 0.8139 - val_loss: 0.3960 - val_accuracy: 0.8245\n",
            "Epoch 48/50\n",
            "153/153 [==============================] - 0s 2ms/step - loss: 0.4042 - accuracy: 0.8134 - val_loss: 0.3942 - val_accuracy: 0.8242\n",
            "Epoch 49/50\n",
            "153/153 [==============================] - 0s 2ms/step - loss: 0.4042 - accuracy: 0.8145 - val_loss: 0.3942 - val_accuracy: 0.8245\n",
            "Epoch 50/50\n",
            "153/153 [==============================] - 0s 2ms/step - loss: 0.4026 - accuracy: 0.8131 - val_loss: 0.3954 - val_accuracy: 0.8240\n"
          ],
          "name": "stdout"
        }
      ]
    },
    {
      "cell_type": "code",
      "metadata": {
        "id": "pjViFBGzlm7O",
        "colab": {
          "base_uri": "https://localhost:8080/",
          "height": 483
        },
        "outputId": "866227be-32ec-4da2-e0a9-92bfa2d28dc2"
      },
      "source": [
        "plot_train_valid_history(history)"
      ],
      "execution_count": null,
      "outputs": [
        {
          "output_type": "display_data",
          "data": {
            "image/png": "[encoded data removed]",
            "text/plain": [
              "<Figure size 1152x576 with 2 Axes>"
            ]
          },
          "metadata": {
            "tags": [],
            "needs_background": "light"
          }
        }
      ]
    },
    {
      "cell_type": "code",
      "metadata": {
        "id": "_ES52iKBlm7O",
        "colab": {
          "base_uri": "https://localhost:8080/"
        },
        "outputId": "fd7e323c-fc1d-4791-a7cd-eaf9e23e8eeb"
      },
      "source": [
        "score, acc = model2.evaluate(x_test,y_test)\n",
        "print('Test score:', score)\n",
        "print('Test accuracy:', acc)"
      ],
      "execution_count": null,
      "outputs": [
        {
          "output_type": "stream",
          "text": [
            "204/204 [==============================] - 0s 809us/step - loss: 0.4014 - accuracy: 0.8187\n",
            "Test score: 0.4014033377170563\n",
            "Test accuracy: 0.8186703324317932\n"
          ],
          "name": "stdout"
        }
      ]
    },
    {
      "cell_type": "code",
      "metadata": {
        "colab": {
          "base_uri": "https://localhost:8080/",
          "height": 1000
        },
        "id": "xcCpKKYhWDgk",
        "outputId": "e842f66d-fc0f-43a3-d129-e14aa59ab99e"
      },
      "source": [
        "# HYPERPARAMETERS\n",
        "CELLS_1 = 32\n",
        "CELLS_2 = 8\n",
        "\n",
        "LEARNING_RATE = 0.0009\n",
        "EPOCHS = 55\n",
        "BATCH_SIZE = 128\n",
        "\n",
        "NR_INPUTS = x_train.shape[1]\n",
        "\n",
        "print(f\"x_train dataset contains {NR_INPUTS} features (columns).\")\n",
        "\n",
        "model3 = create_model()\n",
        "\n",
        "model3.summary()\n",
        "\n",
        "history = model3.fit(x_train, y_train,\n",
        "                    validation_data = (x_valid, y_valid),\n",
        "                    batch_size = BATCH_SIZE,\n",
        "                    epochs = EPOCHS\n",
        "                    )\n",
        "\n",
        "plot_train_valid_history(history)\n",
        "\n",
        "score, acc = model3.evaluate(x_test,y_test)\n",
        "print('Test score:', score)\n",
        "print('Test accuracy:', acc)"
      ],
      "execution_count": null,
      "outputs": [
        {
          "output_type": "stream",
          "text": [
            "x_train dataset contains 23 features (columns).\n",
            "Model: \"sequential_5\"\n",
            "_________________________________________________________________\n",
            "Layer (type)                 Output Shape              Param #   \n",
            "=================================================================\n",
            "dense_15 (Dense)             (None, 32)                768       \n",
            "_________________________________________________________________\n",
            "dropout_3 (Dropout)          (None, 32)                0         \n",
            "_________________________________________________________________\n",
            "dense_16 (Dense)             (None, 8)                 264       \n",
            "_________________________________________________________________\n",
            "dense_17 (Dense)             (None, 1)                 9         \n",
            "=================================================================\n",
            "Total params: 1,041\n",
            "Trainable params: 1,041\n",
            "Non-trainable params: 0\n",
            "_________________________________________________________________\n",
            "Epoch 1/55\n",
            "153/153 [==============================] - 0s 2ms/step - loss: 0.6054 - accuracy: 0.6954 - val_loss: 0.4600 - val_accuracy: 0.7756\n",
            "Epoch 2/55\n",
            "153/153 [==============================] - 0s 2ms/step - loss: 0.4798 - accuracy: 0.7668 - val_loss: 0.4285 - val_accuracy: 0.7882\n",
            "Epoch 3/55\n",
            "153/153 [==============================] - 0s 2ms/step - loss: 0.4541 - accuracy: 0.7787 - val_loss: 0.4163 - val_accuracy: 0.8107\n",
            "Epoch 4/55\n",
            "153/153 [==============================] - 0s 1ms/step - loss: 0.4392 - accuracy: 0.7907 - val_loss: 0.4081 - val_accuracy: 0.8174\n",
            "Epoch 5/55\n",
            "153/153 [==============================] - 0s 2ms/step - loss: 0.4345 - accuracy: 0.7930 - val_loss: 0.4036 - val_accuracy: 0.8206\n",
            "Epoch 6/55\n",
            "153/153 [==============================] - 0s 1ms/step - loss: 0.4290 - accuracy: 0.7998 - val_loss: 0.4009 - val_accuracy: 0.8206\n",
            "Epoch 7/55\n",
            "153/153 [==============================] - 0s 2ms/step - loss: 0.4253 - accuracy: 0.8000 - val_loss: 0.3994 - val_accuracy: 0.8203\n",
            "Epoch 8/55\n",
            "153/153 [==============================] - 0s 2ms/step - loss: 0.4230 - accuracy: 0.8003 - val_loss: 0.3977 - val_accuracy: 0.8223\n",
            "Epoch 9/55\n",
            "153/153 [==============================] - 0s 2ms/step - loss: 0.4188 - accuracy: 0.8027 - val_loss: 0.3967 - val_accuracy: 0.8208\n",
            "Epoch 10/55\n",
            "153/153 [==============================] - 0s 2ms/step - loss: 0.4167 - accuracy: 0.8050 - val_loss: 0.3957 - val_accuracy: 0.8209\n",
            "Epoch 11/55\n",
            "153/153 [==============================] - 0s 2ms/step - loss: 0.4171 - accuracy: 0.8057 - val_loss: 0.3947 - val_accuracy: 0.8234\n",
            "Epoch 12/55\n",
            "153/153 [==============================] - 0s 2ms/step - loss: 0.4140 - accuracy: 0.8066 - val_loss: 0.3930 - val_accuracy: 0.8229\n",
            "Epoch 13/55\n",
            "153/153 [==============================] - 0s 2ms/step - loss: 0.4109 - accuracy: 0.8087 - val_loss: 0.3931 - val_accuracy: 0.8228\n",
            "Epoch 14/55\n",
            "153/153 [==============================] - 0s 2ms/step - loss: 0.4131 - accuracy: 0.8062 - val_loss: 0.3921 - val_accuracy: 0.8242\n",
            "Epoch 15/55\n",
            "153/153 [==============================] - 0s 2ms/step - loss: 0.4106 - accuracy: 0.8104 - val_loss: 0.3912 - val_accuracy: 0.8232\n",
            "Epoch 16/55\n",
            "153/153 [==============================] - 0s 2ms/step - loss: 0.4101 - accuracy: 0.8092 - val_loss: 0.3911 - val_accuracy: 0.8223\n",
            "Epoch 17/55\n",
            "153/153 [==============================] - 0s 2ms/step - loss: 0.4102 - accuracy: 0.8116 - val_loss: 0.3903 - val_accuracy: 0.8242\n",
            "Epoch 18/55\n",
            "153/153 [==============================] - 0s 2ms/step - loss: 0.4093 - accuracy: 0.8111 - val_loss: 0.3906 - val_accuracy: 0.8226\n",
            "Epoch 19/55\n",
            "153/153 [==============================] - 0s 2ms/step - loss: 0.4087 - accuracy: 0.8112 - val_loss: 0.3904 - val_accuracy: 0.8239\n",
            "Epoch 20/55\n",
            "153/153 [==============================] - 0s 2ms/step - loss: 0.4068 - accuracy: 0.8126 - val_loss: 0.3909 - val_accuracy: 0.8229\n",
            "Epoch 21/55\n",
            "153/153 [==============================] - 0s 2ms/step - loss: 0.4056 - accuracy: 0.8129 - val_loss: 0.3904 - val_accuracy: 0.8243\n",
            "Epoch 22/55\n",
            "153/153 [==============================] - 0s 1ms/step - loss: 0.4055 - accuracy: 0.8112 - val_loss: 0.3899 - val_accuracy: 0.8237\n",
            "Epoch 23/55\n",
            "153/153 [==============================] - 0s 1ms/step - loss: 0.4049 - accuracy: 0.8144 - val_loss: 0.3896 - val_accuracy: 0.8239\n",
            "Epoch 24/55\n",
            "153/153 [==============================] - 0s 2ms/step - loss: 0.4043 - accuracy: 0.8141 - val_loss: 0.3903 - val_accuracy: 0.8234\n",
            "Epoch 25/55\n",
            "153/153 [==============================] - 0s 2ms/step - loss: 0.4058 - accuracy: 0.8129 - val_loss: 0.3900 - val_accuracy: 0.8222\n",
            "Epoch 26/55\n",
            "153/153 [==============================] - 0s 2ms/step - loss: 0.4023 - accuracy: 0.8152 - val_loss: 0.3901 - val_accuracy: 0.8229\n",
            "Epoch 27/55\n",
            "153/153 [==============================] - 0s 2ms/step - loss: 0.4041 - accuracy: 0.8152 - val_loss: 0.3904 - val_accuracy: 0.8223\n",
            "Epoch 28/55\n",
            "153/153 [==============================] - 0s 2ms/step - loss: 0.4051 - accuracy: 0.8137 - val_loss: 0.3910 - val_accuracy: 0.8225\n",
            "Epoch 29/55\n",
            "153/153 [==============================] - 0s 2ms/step - loss: 0.4000 - accuracy: 0.8145 - val_loss: 0.3890 - val_accuracy: 0.8228\n",
            "Epoch 30/55\n",
            "153/153 [==============================] - 0s 2ms/step - loss: 0.4019 - accuracy: 0.8149 - val_loss: 0.3901 - val_accuracy: 0.8220\n",
            "Epoch 31/55\n",
            "153/153 [==============================] - 0s 2ms/step - loss: 0.4009 - accuracy: 0.8162 - val_loss: 0.3895 - val_accuracy: 0.8232\n",
            "Epoch 32/55\n",
            "153/153 [==============================] - 0s 2ms/step - loss: 0.4017 - accuracy: 0.8143 - val_loss: 0.3903 - val_accuracy: 0.8228\n",
            "Epoch 33/55\n",
            "153/153 [==============================] - 0s 2ms/step - loss: 0.4017 - accuracy: 0.8164 - val_loss: 0.3901 - val_accuracy: 0.8237\n",
            "Epoch 34/55\n",
            "153/153 [==============================] - 0s 2ms/step - loss: 0.3995 - accuracy: 0.8148 - val_loss: 0.3901 - val_accuracy: 0.8231\n",
            "Epoch 35/55\n",
            "153/153 [==============================] - 0s 2ms/step - loss: 0.4011 - accuracy: 0.8168 - val_loss: 0.3895 - val_accuracy: 0.8229\n",
            "Epoch 36/55\n",
            "153/153 [==============================] - 0s 2ms/step - loss: 0.3994 - accuracy: 0.8179 - val_loss: 0.3889 - val_accuracy: 0.8243\n",
            "Epoch 37/55\n",
            "153/153 [==============================] - 0s 2ms/step - loss: 0.4011 - accuracy: 0.8135 - val_loss: 0.3899 - val_accuracy: 0.8242\n",
            "Epoch 38/55\n",
            "153/153 [==============================] - 0s 2ms/step - loss: 0.3984 - accuracy: 0.8156 - val_loss: 0.3895 - val_accuracy: 0.8219\n",
            "Epoch 39/55\n",
            "153/153 [==============================] - 0s 2ms/step - loss: 0.3975 - accuracy: 0.8179 - val_loss: 0.3895 - val_accuracy: 0.8234\n",
            "Epoch 40/55\n",
            "153/153 [==============================] - 0s 2ms/step - loss: 0.4003 - accuracy: 0.8149 - val_loss: 0.3896 - val_accuracy: 0.8246\n",
            "Epoch 41/55\n",
            "153/153 [==============================] - 0s 2ms/step - loss: 0.4004 - accuracy: 0.8152 - val_loss: 0.3897 - val_accuracy: 0.8236\n",
            "Epoch 42/55\n",
            "153/153 [==============================] - 0s 2ms/step - loss: 0.3986 - accuracy: 0.8172 - val_loss: 0.3903 - val_accuracy: 0.8226\n",
            "Epoch 43/55\n",
            "153/153 [==============================] - 0s 2ms/step - loss: 0.3978 - accuracy: 0.8176 - val_loss: 0.3897 - val_accuracy: 0.8219\n",
            "Epoch 44/55\n",
            "153/153 [==============================] - 0s 2ms/step - loss: 0.3979 - accuracy: 0.8188 - val_loss: 0.3916 - val_accuracy: 0.8237\n",
            "Epoch 45/55\n",
            "153/153 [==============================] - 0s 2ms/step - loss: 0.3966 - accuracy: 0.8190 - val_loss: 0.3892 - val_accuracy: 0.8237\n",
            "Epoch 46/55\n",
            "153/153 [==============================] - 0s 2ms/step - loss: 0.3985 - accuracy: 0.8177 - val_loss: 0.3897 - val_accuracy: 0.8236\n",
            "Epoch 47/55\n",
            "153/153 [==============================] - 0s 2ms/step - loss: 0.3969 - accuracy: 0.8178 - val_loss: 0.3903 - val_accuracy: 0.8239\n",
            "Epoch 48/55\n",
            "153/153 [==============================] - 0s 2ms/step - loss: 0.3981 - accuracy: 0.8171 - val_loss: 0.3903 - val_accuracy: 0.8226\n",
            "Epoch 49/55\n",
            "153/153 [==============================] - 0s 2ms/step - loss: 0.3976 - accuracy: 0.8182 - val_loss: 0.3912 - val_accuracy: 0.8232\n",
            "Epoch 50/55\n",
            "153/153 [==============================] - 0s 2ms/step - loss: 0.3950 - accuracy: 0.8181 - val_loss: 0.3898 - val_accuracy: 0.8237\n",
            "Epoch 51/55\n",
            "153/153 [==============================] - 0s 2ms/step - loss: 0.3967 - accuracy: 0.8177 - val_loss: 0.3903 - val_accuracy: 0.8228\n",
            "Epoch 52/55\n",
            "153/153 [==============================] - 0s 2ms/step - loss: 0.3974 - accuracy: 0.8182 - val_loss: 0.3910 - val_accuracy: 0.8232\n",
            "Epoch 53/55\n",
            "153/153 [==============================] - 0s 2ms/step - loss: 0.3983 - accuracy: 0.8171 - val_loss: 0.3911 - val_accuracy: 0.8225\n",
            "Epoch 54/55\n",
            "153/153 [==============================] - 0s 2ms/step - loss: 0.3966 - accuracy: 0.8172 - val_loss: 0.3909 - val_accuracy: 0.8228\n",
            "Epoch 55/55\n",
            "153/153 [==============================] - 0s 2ms/step - loss: 0.3950 - accuracy: 0.8182 - val_loss: 0.3902 - val_accuracy: 0.8226\n"
          ],
          "name": "stdout"
        },
        {
          "output_type": "display_data",
          "data": {
            "image/png": "[encoded data removed]",
            "text/plain": [
              "<Figure size 1152x576 with 2 Axes>"
            ]
          },
          "metadata": {
            "tags": [],
            "needs_background": "light"
          }
        },
        {
          "output_type": "stream",
          "text": [
            "204/204 [==============================] - 0s 933us/step - loss: 0.3963 - accuracy: 0.8191\n",
            "Test score: 0.3962894380092621\n",
            "Test accuracy: 0.8191309571266174\n"
          ],
          "name": "stdout"
        }
      ]
    }
  ]
}